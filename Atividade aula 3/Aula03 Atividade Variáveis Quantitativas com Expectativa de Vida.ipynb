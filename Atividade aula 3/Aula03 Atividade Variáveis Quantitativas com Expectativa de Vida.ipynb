{
 "cells": [
  {
   "cell_type": "markdown",
   "metadata": {},
   "source": [
    "___\n",
    "# Atividade: Variáveis quantitativas com Expectativa de Vida\n",
    "___\n",
    "\n",
    "## Aula 03\n",
    "\n",
    "\n",
    "\n",
    "**Preparo prévio:**\n",
    "1.\tLeitura prévia necessária: Magalhães e Lima (7ª. Edição): pág. 9 a 17 – destacando para variáveis quantitativas; pág. 106 e 107 (Definição 4.1 e Exemplo 4.1).\n",
    "\n",
    "**Hoje:**\n",
    "1. Explorar a variável quantitativa Expectativa de Vida de diversos países do mundo nos anos: 1800, 1926 e 2000. \n",
    "2. Construir tabelas de frequências e interpretar resultados considerando variáveis quantitativas de forma univariada. \n",
    "4. Explicar vantagens e desvantagens sobre o uso da frequência ou da densidade na construção de um histograma e saber interpretá-lo. \n",
    "5. Desenvolver contas para obtenção da média e mediana nos três anos.\n",
    "6. Identificar o formato dos dados (simétrico, assimétrico positivo ou assimétrico negativo) ao observar um histograma e explicar o que cada formato pode impactar nas medidas de posição.\n",
    "\n",
    "\n",
    "**Próxima aula:**\n",
    "1. Leitura prévia necessária: Magalhães e Lima (7ª. Edição): pág. 18 a 25; pág. 106 e 107 (Definição 4.1 e Exemplo 4.1); pág. 116 e 117 (Definição 4.4 e Exemplo 4.8). \n",
    "2. Leitura prévia necessária: Montgomery et al (5ª. Edição): pág. 24 a 28.\n",
    "___\n"
   ]
  },
  {
   "cell_type": "markdown",
   "metadata": {},
   "source": [
    "## <font color='blue'>Expectativa de Vida - LIFE</font>\n",
    "\n",
    "O Banco Mundial (http://data.worldbank.org/brazilian-portuguese) disponibiliza bases de dados estatísticos para um pouco mais de 200 países do mundo desde o ano 1800, as quais consideram uma seleção abrangente de indicadores econômicos, sociais e ambientais. Um desses indicadores é a expectativa de vida (em anos) de cada país.\n",
    "\n",
    "O arquivo `Life.xlsx` contém a expectativa de vida de vários países para os anos 1800, 1926 e 2000.\n",
    "\n",
    "Considerando esses dados, faça as seguintes tarefas:\n",
    "\n",
    "1.\tConstrua uma tabela de frequências absolutas e relativas (em %) para cada um dos anos. \n",
    "\n",
    "2.\tConstrua um histograma para cada ano e interprete os gráficos. \n",
    "\n",
    "3. De acordo com o formato de um histograma, é possível classificar a distribuição dos dados como sendo: simétrica, assimétrica positiva (ou a direita) ou assimétrica negativa (ou a esquerda). Observando o formato de cada histograma construído no item anterior, classifique como sendo simétrico, assimétrico positivo ou assimétrico negativo. Argumente claramente o motivo de sua classificação. \n",
    "![AssimSim](AssimSim.jpg)\n",
    "\n",
    "4.\tPara cada ano, calcule a expectativa média de vida, a expectativa mediana de vida e a classe modal.\n",
    "\n",
    "5.\tPara cada um dos três anos, ordene os valores das medidas de posição (média, mediana e classe modal) obtidas no item anterior. A ordem dessas três medidas de posição é um mero acaso ou pode ser consequência do formato dos dados? Argumente claramente sua resposta.\n"
   ]
  },
  {
   "cell_type": "code",
   "execution_count": 31,
   "metadata": {
    "collapsed": false
   },
   "outputs": [],
   "source": [
    "%matplotlib inline\n",
    "import pandas as pd\n",
    "import matplotlib.pyplot as plt\n",
    "import os\n",
    "from numpy import arange"
   ]
  },
  {
   "cell_type": "code",
   "execution_count": 32,
   "metadata": {
    "collapsed": false
   },
   "outputs": [
    {
     "name": "stdout",
     "output_type": "stream",
     "text": [
      "Esperamos trabalhar no diretório\n",
      "C:\\Users\\pedro\\Desktop\\Atividade aula 3\n"
     ]
    }
   ],
   "source": [
    "print('Esperamos trabalhar no diretório')\n",
    "print(os.getcwd())"
   ]
  },
  {
   "cell_type": "code",
   "execution_count": 33,
   "metadata": {
    "collapsed": false
   },
   "outputs": [],
   "source": [
    "dados = pd.read_excel('Life.xlsx')"
   ]
  },
  {
   "cell_type": "code",
   "execution_count": 34,
   "metadata": {
    "collapsed": true
   },
   "outputs": [],
   "source": [
    "life1800 = dados.L1800\n",
    "life1926 = dados.L1926\n",
    "life2000 = dados.L2000"
   ]
  },
  {
   "cell_type": "code",
   "execution_count": 35,
   "metadata": {
    "collapsed": false
   },
   "outputs": [
    {
     "data": {
      "text/html": [
       "<div>\n",
       "<table border=\"1\" class=\"dataframe\">\n",
       "  <thead>\n",
       "    <tr style=\"text-align: right;\">\n",
       "      <th></th>\n",
       "      <th>Pais</th>\n",
       "      <th>L1800</th>\n",
       "      <th>L1926</th>\n",
       "      <th>L2000</th>\n",
       "    </tr>\n",
       "  </thead>\n",
       "  <tbody>\n",
       "    <tr>\n",
       "      <th>0</th>\n",
       "      <td>Afghanistan</td>\n",
       "      <td>28.2110</td>\n",
       "      <td>26.919920</td>\n",
       "      <td>51.0</td>\n",
       "    </tr>\n",
       "    <tr>\n",
       "      <th>1</th>\n",
       "      <td>Albania</td>\n",
       "      <td>35.4000</td>\n",
       "      <td>35.400000</td>\n",
       "      <td>74.2</td>\n",
       "    </tr>\n",
       "    <tr>\n",
       "      <th>2</th>\n",
       "      <td>Algeria</td>\n",
       "      <td>28.8224</td>\n",
       "      <td>30.968000</td>\n",
       "      <td>73.2</td>\n",
       "    </tr>\n",
       "    <tr>\n",
       "      <th>3</th>\n",
       "      <td>Angola</td>\n",
       "      <td>26.9800</td>\n",
       "      <td>26.980000</td>\n",
       "      <td>52.6</td>\n",
       "    </tr>\n",
       "    <tr>\n",
       "      <th>4</th>\n",
       "      <td>Antigua and Barbuda</td>\n",
       "      <td>33.5360</td>\n",
       "      <td>37.673931</td>\n",
       "      <td>73.9</td>\n",
       "    </tr>\n",
       "  </tbody>\n",
       "</table>\n",
       "</div>"
      ],
      "text/plain": [
       "                  Pais    L1800      L1926  L2000\n",
       "0          Afghanistan  28.2110  26.919920   51.0\n",
       "1              Albania  35.4000  35.400000   74.2\n",
       "2              Algeria  28.8224  30.968000   73.2\n",
       "3               Angola  26.9800  26.980000   52.6\n",
       "4  Antigua and Barbuda  33.5360  37.673931   73.9"
      ]
     },
     "execution_count": 35,
     "metadata": {},
     "output_type": "execute_result"
    }
   ],
   "source": [
    "dados.head()"
   ]
  },
  {
   "cell_type": "code",
   "execution_count": 46,
   "metadata": {
    "collapsed": false
   },
   "outputs": [
    {
     "data": {
      "text/html": [
       "<div>\n",
       "<table border=\"1\" class=\"dataframe\">\n",
       "  <thead>\n",
       "    <tr style=\"text-align: right;\">\n",
       "      <th></th>\n",
       "      <th>L1800</th>\n",
       "      <th>L1926</th>\n",
       "      <th>L2000</th>\n",
       "    </tr>\n",
       "  </thead>\n",
       "  <tbody>\n",
       "    <tr>\n",
       "      <th>count</th>\n",
       "      <td>201.000000</td>\n",
       "      <td>201.000000</td>\n",
       "      <td>201.000000</td>\n",
       "    </tr>\n",
       "    <tr>\n",
       "      <th>mean</th>\n",
       "      <td>31.485800</td>\n",
       "      <td>36.353496</td>\n",
       "      <td>68.012856</td>\n",
       "    </tr>\n",
       "    <tr>\n",
       "      <th>std</th>\n",
       "      <td>3.763625</td>\n",
       "      <td>9.590987</td>\n",
       "      <td>9.211812</td>\n",
       "    </tr>\n",
       "    <tr>\n",
       "      <th>min</th>\n",
       "      <td>23.387000</td>\n",
       "      <td>23.387000</td>\n",
       "      <td>45.700000</td>\n",
       "    </tr>\n",
       "    <tr>\n",
       "      <th>25%</th>\n",
       "      <td>29.000000</td>\n",
       "      <td>30.400000</td>\n",
       "      <td>61.400000</td>\n",
       "    </tr>\n",
       "    <tr>\n",
       "      <th>50%</th>\n",
       "      <td>31.800000</td>\n",
       "      <td>32.800000</td>\n",
       "      <td>71.200000</td>\n",
       "    </tr>\n",
       "    <tr>\n",
       "      <th>75%</th>\n",
       "      <td>33.900000</td>\n",
       "      <td>39.360000</td>\n",
       "      <td>75.000000</td>\n",
       "    </tr>\n",
       "    <tr>\n",
       "      <th>max</th>\n",
       "      <td>42.845599</td>\n",
       "      <td>63.260000</td>\n",
       "      <td>81.100000</td>\n",
       "    </tr>\n",
       "  </tbody>\n",
       "</table>\n",
       "</div>"
      ],
      "text/plain": [
       "            L1800       L1926       L2000\n",
       "count  201.000000  201.000000  201.000000\n",
       "mean    31.485800   36.353496   68.012856\n",
       "std      3.763625    9.590987    9.211812\n",
       "min     23.387000   23.387000   45.700000\n",
       "25%     29.000000   30.400000   61.400000\n",
       "50%     31.800000   32.800000   71.200000\n",
       "75%     33.900000   39.360000   75.000000\n",
       "max     42.845599   63.260000   81.100000"
      ]
     },
     "execution_count": 46,
     "metadata": {},
     "output_type": "execute_result"
    }
   ],
   "source": [
    "dados.describe()"
   ]
  },
  {
   "cell_type": "code",
   "execution_count": 37,
   "metadata": {
    "collapsed": false
   },
   "outputs": [
    {
     "data": {
      "image/png": "[encoded data removed]",
      "text/plain": [
       "<matplotlib.figure.Figure at 0x138b10fff60>"
      ]
     },
     "metadata": {},
     "output_type": "display_data"
    },
    {
     "data": {
      "image/png": "[encoded data removed]",
      "text/plain": [
       "<matplotlib.figure.Figure at 0x138b10e3f28>"
      ]
     },
     "metadata": {},
     "output_type": "display_data"
    },
    {
     "data": {
      "image/png": "[encoded data removed]",
      "text/plain": [
       "<matplotlib.figure.Figure at 0x138b0002550>"
      ]
     },
     "metadata": {},
     "output_type": "display_data"
    }
   ],
   "source": [
    "plot = life1800.plot.hist(bins=9, title='Histograma idades - 1800', figsize=(6, 6), alpha=0.5)\n",
    "plt.ylabel('Frequência absoluta')\n",
    "plt.xlabel('Espectativa de vida em anos')\n",
    "plt.show()\n",
    "\n",
    "plot = life1926.plot.hist(bins=9, title='Histograma idades - 1926', figsize=(6, 6), alpha=0.5,color='g')\n",
    "plt.ylabel('Frequência absoluta')\n",
    "plt.xlabel('Espectativa de vida em anos')\n",
    "plt.show()\n",
    "\n",
    "plot = life2000.plot.hist(bins=9, title='Histograma idades - 2000', figsize=(6, 6), alpha=0.5,color='r')\n",
    "plt.ylabel('Frequência absoluta')\n",
    "plt.xlabel('Espectativa de vida em anos')\n",
    "plt.show()\n",
    "\n"
   ]
  },
  {
   "cell_type": "markdown",
   "metadata": {
    "collapsed": true
   },
   "source": [
    "Histograma 1800 - Simétrico - Os valores das idades estão mais concentrados no centro do histograma que em qualquer outro lugar, provando que a expectativa de vida da época era muito semelhante nas em grande parte do mundo\n",
    "\n",
    "Histograma 1926 - Assimétrico à direita - Os valores estão mais concentrados do lado esquerdo do histograma, com poucos valores maiores que 50 anos. Logo a expectativa de vida era maior apenas em paises ricos, que eram minoria em 1926.\n",
    "\n",
    "Histograma 2000 - Assimétrico à esquerda - Os valores estão mais concentrados do lado direito da imagem, com poucos valores menores que 55 anos. "
   ]
  },
  {
   "cell_type": "markdown",
   "metadata": {},
   "source": [
    "  "
   ]
  },
  {
   "cell_type": "markdown",
   "metadata": {},
   "source": [
    "  "
   ]
  },
  {
   "cell_type": "code",
   "execution_count": 51,
   "metadata": {
    "collapsed": false
   },
   "outputs": [
    {
     "data": {
      "text/html": [
       "<div>\n",
       "<table border=\"1\" class=\"dataframe\">\n",
       "  <thead>\n",
       "    <tr style=\"text-align: right;\">\n",
       "      <th></th>\n",
       "      <th>L1800</th>\n",
       "      <th>L1926</th>\n",
       "      <th>L2000</th>\n",
       "    </tr>\n",
       "  </thead>\n",
       "  <tbody>\n",
       "    <tr>\n",
       "      <th>count</th>\n",
       "      <td>201.000000</td>\n",
       "      <td>201.000000</td>\n",
       "      <td>201.000000</td>\n",
       "    </tr>\n",
       "    <tr>\n",
       "      <th>mean</th>\n",
       "      <td>31.485800</td>\n",
       "      <td>36.353496</td>\n",
       "      <td>68.012856</td>\n",
       "    </tr>\n",
       "    <tr>\n",
       "      <th>std</th>\n",
       "      <td>3.763625</td>\n",
       "      <td>9.590987</td>\n",
       "      <td>9.211812</td>\n",
       "    </tr>\n",
       "    <tr>\n",
       "      <th>min</th>\n",
       "      <td>23.387000</td>\n",
       "      <td>23.387000</td>\n",
       "      <td>45.700000</td>\n",
       "    </tr>\n",
       "    <tr>\n",
       "      <th>25%</th>\n",
       "      <td>29.000000</td>\n",
       "      <td>30.400000</td>\n",
       "      <td>61.400000</td>\n",
       "    </tr>\n",
       "    <tr>\n",
       "      <th>50%</th>\n",
       "      <td>31.800000</td>\n",
       "      <td>32.800000</td>\n",
       "      <td>71.200000</td>\n",
       "    </tr>\n",
       "    <tr>\n",
       "      <th>75%</th>\n",
       "      <td>33.900000</td>\n",
       "      <td>39.360000</td>\n",
       "      <td>75.000000</td>\n",
       "    </tr>\n",
       "    <tr>\n",
       "      <th>max</th>\n",
       "      <td>42.845599</td>\n",
       "      <td>63.260000</td>\n",
       "      <td>81.100000</td>\n",
       "    </tr>\n",
       "  </tbody>\n",
       "</table>\n",
       "</div>"
      ],
      "text/plain": [
       "            L1800       L1926       L2000\n",
       "count  201.000000  201.000000  201.000000\n",
       "mean    31.485800   36.353496   68.012856\n",
       "std      3.763625    9.590987    9.211812\n",
       "min     23.387000   23.387000   45.700000\n",
       "25%     29.000000   30.400000   61.400000\n",
       "50%     31.800000   32.800000   71.200000\n",
       "75%     33.900000   39.360000   75.000000\n",
       "max     42.845599   63.260000   81.100000"
      ]
     },
     "execution_count": 51,
     "metadata": {},
     "output_type": "execute_result"
    }
   ],
   "source": [
    "dados.describe()"
   ]
  },
  {
   "cell_type": "markdown",
   "metadata": {},
   "source": [
    "Observando a tabela acima:\n",
    "\n",
    "1800 - Média 31.48/ Mediana 31.8\n",
    "\n",
    "1926 - Média 36.35/ Mediana 32.8\n",
    "\n",
    "2000 - Média 68.01/ Mediana 71.2\n",
    "\n",
    "Observação: o valor de 50% é a mediana e é o meio do boxplot."
   ]
  },
  {
   "cell_type": "markdown",
   "metadata": {},
   "source": [
    "  "
   ]
  },
  {
   "cell_type": "markdown",
   "metadata": {},
   "source": [
    "  "
   ]
  },
  {
   "cell_type": "markdown",
   "metadata": {},
   "source": [
    "   "
   ]
  },
  {
   "cell_type": "markdown",
   "metadata": {},
   "source": [
    "1800 - A média, mediana e moda estão concentradas no meio do histograma.\n",
    "\n",
    "1926 - A moda é menor que a mediana que é menor que a média.\n",
    "\n",
    "2000 - A média é menor que a mediana que é menor que a moda.\n",
    "\n",
    "A ordem de todas as medidas é consequencia da disposição dos dados. Quando os valores estão concentrados ao centro, a média, mediana e moda tendem a ser encontradas aproximadamente no mesmo valor. Quando há muitos valores baixos ou altos, a moda e média tendem a alterar suas posições de acordo com a concentração de valores, enquanto a mediana sempre será o valor central dos dados."
   ]
  },
  {
   "cell_type": "code",
   "execution_count": null,
   "metadata": {
    "collapsed": true
   },
   "outputs": [],
   "source": []
  }
 ],
 "metadata": {
  "anaconda-cloud": {},
  "kernelspec": {
   "display_name": "Python 3",
   "language": "python",
   "name": "python3"
  },
  "language_info": {
   "codemirror_mode": {
    "name": "ipython",
    "version": 3
   },
   "file_extension": ".py",
   "mimetype": "text/x-python",
   "name": "python",
   "nbconvert_exporter": "python",
   "pygments_lexer": "ipython3",
   "version": "3.5.2"
  }
 },
 "nbformat": 4,
 "nbformat_minor": 0
}
