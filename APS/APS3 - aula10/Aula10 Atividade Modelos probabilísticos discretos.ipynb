{
 "cells": [
  {
   "cell_type": "markdown",
   "metadata": {},
   "source": [
    "___\n",
    "# Atividade: Modelos probabilísticos discretos e Dados\n",
    "___\n",
    "\n",
    "## Aula 10\n",
    "\n",
    "**Referência de Leitura:**\n",
    "1. Magalhães e Lima (7ª. Edição): Seções 3.2 e 3.3\n",
    "\n",
    "**Hoje:**\n",
    "1.\tDescrever modelos discretos quanto aos resultados teóricos.\n",
    "2.\tExplicar a utilização de modelos probabilísticos no contexto da literatura estatística.\n",
    "3.\tContrastar resultados teóricos e empíricos.\n",
    "4.\tFechamento do conteúdo.\n",
    "\n",
    "**Próxima aula:**\n",
    "1. Leitura prévia necessária: Magalhães e Lima (7ª. Edição): Seção 5.1 (pág. 137) e Seção 5.2 (pág. 146).\n",
    "___"
   ]
  },
  {
   "cell_type": "code",
   "execution_count": 1,
   "metadata": {
    "collapsed": true
   },
   "outputs": [],
   "source": [
    "%matplotlib inline\n",
    "import pandas as pd\n",
    "import matplotlib.pyplot as plt\n",
    "\n",
    "from scipy import stats #importa apenas as funções de estatísticas da biblioteca SciPy.\n",
    "import itertools #importante para gerar todos os resultados possíveis!!\n"
   ]
  },
  {
   "cell_type": "markdown",
   "metadata": {},
   "source": [
    "___\n",
    "## <font color='blue'>Exercício 1</font>\n",
    "\n",
    "Um resistor de 100K Ohms comprado na Santa Efigênia tem probabilidade de falha de 5%, segundo um fabricante ruim.\n",
    "\n",
    "Ainda, por suposição, admita que os resistores falhem de forma independente entre si.\n",
    "\n",
    "Um aluno de engenharia compra um pacote contendo $n$ resistores.\n",
    "\n",
    "1. Assuma $n=3$ e faça os itens a seguir.\n",
    "  1. Monte o espaço amostral que combine todos os resultados possíveis de Falha e não Falha desses $n$ resistores. Ainda, calcule a probabilidade de cada resultado do espaço amostral acontecer.\n",
    "  2. Se $Y$ representa o número de resistores que falham em um pacotinho com $n$ resistores, então construa a distribuição de probabilidades de $Y$.\n",
    "  3. Calcule a média e o desvio padrão de $Y$. Interprete os resultados.\n",
    "  4. Utilizando o modelo probabilístico da distribuição Binomial, encontre a distribuição de probabilidades de cada possível valor de $Y$. Calcule também $E(Y)$ e $Var(Y)$. Compare com as distribuições de probabilidades obtidas nos itens anteriores e discuta porque esses valores são iguais ou diferentes!\n",
    "   \n",
    "2. Assuma $n=7$ e repita os itens A) a D) anteriores. No caso de $n=7$ ou maiores quantidades de resistores em um pacotinho, qual a viabilidade de construir a distribuição de probabilidades do número de resistores com defeitos quando $n$ não é pequeno seguindo os itens de A) a C)?\n",
    "    \n",
    "> \n",
    "\n",
    "> **DISTRIBUIÇÃO BINOMIAL - TEORIA:**\n",
    "\n",
    "> É responsável por modelar uma variável $Y$ definida pelo Número de sucessos em $n$ tentativas, cuja probabilidade de sucesso é dada por $p$. Assim, dizemos que $Y$~$Bin(n,p)$ e lê-se: $Y$ segue uma distribuição binomial com $n$ tentativas e $p$ como probabilidade de sucesso. \n",
    "\n",
    "> A função de probabilidade nesse caso é dada por:\n",
    "$P(Y=y)=\\left(\n",
    "\\begin{array}{c}\n",
    "    n \\\\\n",
    "    y\n",
    "\\end{array}\\right) p^y (1-p)^{(n-y)}$\n",
    "\n",
    "> Para um experimento ter as probabilidade dos números de sucessos modeladas por uma distribuição Binomial, o mesmo precisa ter as seguintes propriedades:\n",
    "* é uma contagem de $n$ repetições (ou tentativas ou ensaios) idênticas;\n",
    "* cada repetição tem apenas 2 resultados possíveis: um é denominado sucesso e o outro, fracasso;\n",
    "* a probabilidade de sucesso para cada ensaio é denominada $p$ e será constante em cada repetição. Então, a probabilidade de fracasso $(1-p)$ também não varia de tentativa para tentativa;\n",
    "* As tentativas são independentes.\n",
    "\n",
    "\n",
    "> **DISTRIBUIÇÃO BINOMIAL - PYTHON:** <sup> [https://en.wikipedia.org/wiki/SciPy]\n",
    "\n",
    "> Algumas funções úteis para desenvolver seu código: <sup> [http://docs.scipy.org/doc/scipy-0.16.1/reference/generated/scipy.stats.binom.html]\n",
    "* $P(Y=y)$: `stats.binom.pmf(y, n, p)`\n",
    "* $P(Y\\leq y)$: `stats.binom.cdf(y, n, p)`\n",
    "* $E(Y)$ e $Var(Y)$: `stats.binom.stats(n, p, moments='mv')`\n"
   ]
  },
  {
   "cell_type": "code",
   "execution_count": 2,
   "metadata": {
    "collapsed": true
   },
   "outputs": [],
   "source": [
    "#item 1\n",
    "n=3\n",
    "#item 2\n",
    "n=7"
   ]
  },
  {
   "cell_type": "code",
   "execution_count": 3,
   "metadata": {
    "collapsed": true
   },
   "outputs": [],
   "source": [
    "possibilidades = [\"S\", \"F\"]\n",
    "prob = {\"S\": 0.95, \"F\":0.05}"
   ]
  },
  {
   "cell_type": "code",
   "execution_count": 4,
   "metadata": {
    "collapsed": false
   },
   "outputs": [
    {
     "data": {
      "text/plain": [
       "[('S', 'S', 'S'),\n",
       " ('S', 'S', 'F'),\n",
       " ('S', 'F', 'S'),\n",
       " ('S', 'F', 'F'),\n",
       " ('F', 'S', 'S'),\n",
       " ('F', 'S', 'F'),\n",
       " ('F', 'F', 'S'),\n",
       " ('F', 'F', 'F')]"
      ]
     },
     "execution_count": 4,
     "metadata": {},
     "output_type": "execute_result"
    }
   ],
   "source": [
    "#item A\n",
    "#arranjos possíveis\n",
    "arranjos1 = itertools.product(possibilidades, repeat=3)\n",
    "ea1 = list(arranjos1)\n",
    "ea1"
   ]
  },
  {
   "cell_type": "code",
   "execution_count": 5,
   "metadata": {
    "collapsed": false
   },
   "outputs": [
    {
     "data": {
      "text/plain": [
       "[0.8573749999999999,\n",
       " 0.045125,\n",
       " 0.045125,\n",
       " 0.0023750000000000004,\n",
       " 0.045125,\n",
       " 0.0023750000000000004,\n",
       " 0.0023750000000000004,\n",
       " 0.00012500000000000003]"
      ]
     },
     "execution_count": 5,
     "metadata": {},
     "output_type": "execute_result"
    }
   ],
   "source": [
    "#probabilidade de cada combinação acontecer\n",
    "prob_linhas1 = []\n",
    "\n",
    "for res in ea1:\n",
    "    p = 1.0\n",
    "    for e in res:\n",
    "        p*=prob[e]\n",
    "    prob_linhas1.append(p)\n",
    "\n",
    "prob_linhas1"
   ]
  },
  {
   "cell_type": "code",
   "execution_count": 6,
   "metadata": {
    "collapsed": false
   },
   "outputs": [
    {
     "name": "stdout",
     "output_type": "stream",
     "text": [
      "Resistores não funcionando: 0  Probabilidade 0.85737 \n",
      "Resistores não funcionando: 1  Probabilidade 0.13537 \n",
      "Resistores não funcionando: 2  Probabilidade 0.00713 \n",
      "Resistores não funcionando: 3  Probabilidade 0.00013 \n"
     ]
    }
   ],
   "source": [
    "#item B\n",
    "valoresy = {}\n",
    "\n",
    "for y in range(len(ea1)):\n",
    "    ocorrencia = ea1[y].count(\"F\")\n",
    "    if ocorrencia in valoresy:\n",
    "        valoresy[ocorrencia] += prob_linhas1[y]\n",
    "    else:\n",
    "        valoresy[ocorrencia] = prob_linhas1[y]\n",
    "        \n",
    "for k in valoresy:\n",
    "    print(\"Resistores não funcionando:\", k, \" Probabilidade\", \"%6.5f \"%valoresy[k])"
   ]
  },
  {
   "cell_type": "code",
   "execution_count": 7,
   "metadata": {
    "collapsed": false
   },
   "outputs": [],
   "source": [
    "#item c\n",
    "valoresy2 = {}\n",
    "\n",
    "for l in range(len(ea1)):\n",
    "    ocorrencia2 = ea1[y].count(\"F\")\n",
    "    if ocorrencia2 in valoresy2:\n",
    "        valoresy2[ocorrencia2] += prob_linhas1[y]\n",
    "    else:\n",
    "        valoresy2[ocorrencia2] = prob_linhas1[y]"
   ]
  },
  {
   "cell_type": "code",
   "execution_count": null,
   "metadata": {
    "collapsed": true
   },
   "outputs": [],
   "source": []
  },
  {
   "cell_type": "markdown",
   "metadata": {},
   "source": [
    "___\n",
    "## <font color='blue'>Exercício 2</font> \n",
    "\n",
    "### <font color='red'>**Publicar no github até dia 21/03 INDIVIDUAL **</font>\n",
    "\n",
    "Esse exercício irá explorar uma modelagem de dados reais.\n",
    "\n",
    "> **Confira alguns itens obrigatórios verificados durante a vistoria do Detran**\n",
    "\n",
    "> *Todos os veículos, novos ou velhos, precisam passar por uma vistoria todos os anos. (...) O motorista precisa estar atento a alguns itens obrigatórios. Tudo deve funcionar perfeitamente, apresentar bom estado de conservação e estar dentro do prazo de validade.*\n",
    "\n",
    "> <sup>Fonte: http://extra.globo.com/noticias/brasil/transito-seguro/confira-alguns-itens-obrigatorios-verificados-durante-vistoria-do-detran-10190355.html</sup>\n",
    "\n",
    "Essa matéria lista 14 itens que são inspecionados pelo Detran, dentre os quais têm-se: extintor de incêndio deve estar dentro do prazo de validade; pneus devem estar em bom estado de conservação; buzina deve funcionar perfeitamente; e cintos de segurança para todos os ocupantes do carro. Se, no final das contas, todos os 14 itens estiverem funcionando perfeitamente, o motorista irá feliz para casa assegurado de que seu carro está sem problemas com a vistoria.\n",
    "\n",
    "1. A base de dados `Carros.txt` apresenta, para cada um dos três mil carros de passeio vistoriados, duas informações: tipo de carro (1: Popular e 2: Não Popular) e quantidade de itens vistoriados em não conformidade (que pode variar de 0 a 14). \n",
    "    1. Considerando todos os carros, analise a quantidade de itens vistoriados em não conformidade. Pela tabela de frequências relativas, calcule a média e variância dessa quantidade. Interprete-os.\n",
    "    2. Assuma que a variável *Quantidade de itens em não conformidade* possa ser ajustada pelo modelo Binomial com parâmetros $n=14$ e $p=0,10$. Interprete esses parâmetros para o problema em questão e, ainda, discuta se as propriedades da distribuição Binomial estão satisfeitas para o problema aqui me questão.\n",
    "    \n",
    "    **Independente da sua resposta anterior, considere que a distribuição binomial seja adequada para modelar a variável de interesse nos próximos itens!**\n",
    "    3. Utilizando o método `stats.binom.pmf`, obtenha a probabilidade de cada uma das quantidades de itens em não conformidade quando $n=14$ e $p=0,10$. Calcule o valor esperado e a variância da quantidade de itens em não conformidade utilizando o método `stats.binom.stats` e via resultado da Tabela 4.4 do Magalhães e Lima (pág. 125).\n",
    "    4. Compare as probabilidades teóricas com as frequências relativas observadas nos dados. Para isso, tem-se, por exemplo, as duas opções abaixo para comparar se os resultados empíricos se encaixam com o modelo teórico proposto. \n",
    "        - A primeira opção gráfica contrasta a frequência relativa e a probabilidade teórica para uma determinada quantidade de itens em não conformidade! Vide Figura 3.4 do livro Magalhães e Lima (pág. 87). Ou seja, essa opção contrasta a frequência relativa em um valor de $y$ e a probabilidade pontual $P(Y=y)$.\n",
    "        - A segunda contrasta a frequência relativa acumulada com a probabilidade acumulada até determinada quantidade de itens em não conformidade. Ou seja, compara a frequência relativa acumulada até $y$ com a probabilidade acumulada $P(Y\\leq y)$.\n",
    "    Construa os gráficos de acordo com as duas opções e refine sua conclusão quanto ao uso do modelo teórico para ajustar a variável em questão!\n",
    "    5. Na prática, qual a necessidade de um modelo probabilístico já que se têm os dados observados?\n",
    "    6. Considerando apenas os carros populares, o modelo Binomial com parâmetros $n=14$ e $p=0,10$ é adequado para ajustar a variável Quantidade de itens em não conformidade? Se sim, justifique; caso não, sugira novos valores para os parâmetros da distribuição ajuste aos dados."
   ]
  },
  {
   "cell_type": "code",
   "execution_count": 8,
   "metadata": {
    "collapsed": false
   },
   "outputs": [
    {
     "name": "stdout",
     "output_type": "stream",
     "text": [
      "Esperamos trabalhar no diretório\n",
      "C:\\Users\\pedro\\Documents\\GitHub\\CDAgoraVai\\aula10\n"
     ]
    }
   ],
   "source": [
    "import os\n",
    "print('Esperamos trabalhar no diretório')\n",
    "print(os.getcwd())\n",
    "carros = pd.read_table('Carros.txt', sep=' ')"
   ]
  },
  {
   "cell_type": "code",
   "execution_count": 15,
   "metadata": {
    "collapsed": false
   },
   "outputs": [
    {
     "name": "stdout",
     "output_type": "stream",
     "text": [
      "A média da Quantidade é: 1.3713333333333333\n",
      "A variância da Quantidade é: 1.5799715460709343\n"
     ]
    }
   ],
   "source": [
    "#Item A\n",
    "\n",
    "tmp= carros[\"Quantidade\"].mean()\n",
    "print(\"A média da Quantidade é: \"+str(tmp))\n",
    "\n",
    "tmp=carros[\"Quantidade\"].var()\n",
    "print(\"A variância da Quantidade é: \"+str(tmp))"
   ]
  },
  {
   "cell_type": "code",
   "execution_count": 16,
   "metadata": {
    "collapsed": false
   },
   "outputs": [
    {
     "name": "stdout",
     "output_type": "stream",
     "text": [
      "\n",
      "    O modelo sugerido diz que cada um dos 14 itens tem uma chance independente de 10% de estar irregular de acordo com os \n",
      "conformes buscados.\n",
      "    Expandindo binomialmente o modelo, podemos calcular a probabilidade de qualquer um dos itens não estar de acordo com os\n",
      "padrões estaelecidos e, consequentemente, a probabilidade geral dos carros estarem ou não em conformidade.\n",
      "Logo, o modelo é válido para analisar o sistema.\n",
      "\n"
     ]
    }
   ],
   "source": [
    "#Item B\n",
    "\n",
    "tmp=\"\"\"\n",
    "    O modelo sugerido diz que cada um dos 14 itens tem uma chance independente de 10% de estar irregular de acordo com os \n",
    "conformes buscados.\n",
    "    Expandindo binomialmente o modelo, podemos calcular a probabilidade de qualquer um dos itens não estar de acordo com os\n",
    "padrões estaelecidos e, consequentemente, a probabilidade geral dos carros estarem ou não em conformidade.\n",
    "Logo, o modelo é válido para analisar o sistema.\n",
    "\"\"\"\n",
    "\n",
    "print(tmp)"
   ]
  },
  {
   "cell_type": "code",
   "execution_count": 17,
   "metadata": {
    "collapsed": false
   },
   "outputs": [
    {
     "name": "stdout",
     "output_type": "stream",
     "text": [
      "[  2.28767925e-01   3.55861216e-01   2.57010878e-01   1.14227057e-01\n",
      "   3.49027119e-02   7.75615819e-03   1.29269303e-03   1.64151496e-04\n",
      "   1.59591732e-05   1.18216098e-06   6.56756100e-08   2.65356000e-09\n",
      "   7.37100000e-11   1.26000000e-12   1.00000000e-14]\n",
      "Chance do carro ser reprovado: 0.77123207545\n",
      "\n",
      "    A probabilidade de todos os componentes do carro estarem de acordo com os requisitos, e consequentemente o carro estar aprovado, \n",
      "é de 2.28767925e-01.\n",
      "    A chance do carro não passar no check será o complementar dessa probabilidade, ou seja, 1-2.28767925e-01= 0.77123207545.\n",
      "\n",
      "A esperança vale: 1.4000000000000001\n",
      "A variância vale: 1.2600000000000002\n"
     ]
    }
   ],
   "source": [
    "#Item C\n",
    "\n",
    "valores=range(0,15)\n",
    "print(stats.binom.pmf(valores, 14, 0.1))\n",
    "print(\"Chance do carro ser reprovado: \"+str(1 - stats.binom.pmf(valores, 14, 0.1)[0]))\n",
    "\n",
    "tmp=\"\"\"\n",
    "    A probabilidade de todos os componentes do carro estarem de acordo com os requisitos, e consequentemente o carro estar aprovado, \n",
    "é de 2.28767925e-01.\n",
    "    A chance do carro não passar no check será o complementar dessa probabilidade, ou seja, 1-2.28767925e-01= 0.77123207545.\n",
    "\"\"\"\n",
    "print(tmp)\n",
    "\n",
    "print(\"A esperança vale: \"+str(stats.binom.stats(14, 0.1)[0]))\n",
    "print(\"A variância vale: \"+str(stats.binom.stats(14, 0.1)[1]))"
   ]
  },
  {
   "cell_type": "code",
   "execution_count": 18,
   "metadata": {
    "collapsed": false
   },
   "outputs": [
    {
     "data": {
      "image/png": "[encoded data removed]",
      "text/plain": [
       "<matplotlib.figure.Figure at 0x25ca50466d8>"
      ]
     },
     "metadata": {},
     "output_type": "display_data"
    },
    {
     "data": {
      "image/png": "[encoded data removed]",
      "text/plain": [
       "<matplotlib.figure.Figure at 0x25ca5114710>"
      ]
     },
     "metadata": {},
     "output_type": "display_data"
    },
    {
     "name": "stdout",
     "output_type": "stream",
     "text": [
      "\n",
      "    Observando os gráficos das frequências relativas, respectivamente do ideal teórico e dos dados apontados, vemos que\n",
      "as frequências esperadas praticamente coincidem com as frequências reais, exceto no que se diz ao total de carros sem nenhuma \n",
      "falha.\n",
      "\n"
     ]
    }
   ],
   "source": [
    "#Item D\n",
    "esperada= stats.binom.pmf(valores, 14, 0.1)\n",
    "pd.DataFrame(esperada).plot.bar(legend=False)\n",
    "plt.show()\n",
    "((carros.Quantidade.value_counts()/3000).reindex(range(0,15))).plot.bar()\n",
    "plt.show()\n",
    "\n",
    "tmp=\"\"\"\n",
    "    Observando os gráficos das frequências relativas, respectivamente do ideal teórico e dos dados apontados, vemos que\n",
    "as frequências esperadas praticamente coincidem com as frequências reais, exceto no que se diz ao total de carros sem nenhuma \n",
    "falha.\n",
    "\"\"\"\n",
    "print(tmp)"
   ]
  },
  {
   "cell_type": "code",
   "execution_count": 19,
   "metadata": {
    "collapsed": false
   },
   "outputs": [
    {
     "name": "stdout",
     "output_type": "stream",
     "text": [
      "\n",
      "    Quando utilizamos modelos probabílisticos, podemos compreender melhor as causas que geram o modelo e analisando-as,\n",
      "podemos prever como nosso caso real se comportaria alterando algumas variáveis.\n",
      "Desta maneira, podemos fazer análises mais profundas dos dados observados.\n",
      "\n"
     ]
    }
   ],
   "source": [
    "#Item E\n",
    "\n",
    "\n",
    "tmp=\"\"\"\n",
    "    Quando utilizamos modelos probabílisticos, podemos compreender melhor as causas que geram o modelo e analisando-as,\n",
    "podemos prever como nosso caso real se comportaria alterando algumas variáveis.\n",
    "Desta maneira, podemos fazer análises mais profundas dos dados observados.\n",
    "\"\"\"\n",
    "\n",
    "print(tmp)"
   ]
  },
  {
   "cell_type": "code",
   "execution_count": 20,
   "metadata": {
    "collapsed": false
   },
   "outputs": [
    {
     "data": {
      "image/png": "[encoded data removed]",
      "text/plain": [
       "<matplotlib.figure.Figure at 0x25ca5109b70>"
      ]
     },
     "metadata": {},
     "output_type": "display_data"
    },
    {
     "data": {
      "image/png": "[encoded data removed]",
      "text/plain": [
       "<matplotlib.figure.Figure at 0x25ca6a96160>"
      ]
     },
     "metadata": {},
     "output_type": "display_data"
    },
    {
     "name": "stdout",
     "output_type": "stream",
     "text": [
      "\n",
      "    Podemos ver que apesar dos dois gráficos seguirem a forma básica do modelo teórico, os carros não populares estão, em média,\n",
      "consideravelmente mais bem cuidados que os populares, sendo este um fator que diferencia ambas as distribuições.\n",
      "Para uma análise mais profunda poderíamos considerar \"p\"s diferentes entre os carros Populares e Não Populares.\n",
      "\n"
     ]
    }
   ],
   "source": [
    "data= carros[carros.Tipo == 1]\n",
    "data= data.Quantidade.value_counts()\n",
    "#total é 1800\n",
    "data= (data/1800).reindex(range(0, 15)).plot.bar()\n",
    "plt.show()\n",
    "\n",
    "data= carros[carros.Tipo == 2]\n",
    "data= data.Quantidade.value_counts()\n",
    "#total é 1200\n",
    "data= (data/1200).reindex(range(0, 15)).plot.bar()\n",
    "plt.show()\n",
    "\n",
    "tmp=\"\"\"\n",
    "    Podemos ver que apesar dos dois gráficos seguirem a forma básica do modelo teórico, os carros não populares estão, em média,\n",
    "consideravelmente mais bem cuidados que os populares, sendo este um fator que diferencia ambas as distribuições.\n",
    "Para uma análise mais profunda poderíamos considerar \\\"p\\\"s diferentes entre os carros Populares e Não Populares.\n",
    "\"\"\"\n",
    "\n",
    "print(tmp)"
   ]
  },
  {
   "cell_type": "markdown",
   "metadata": {
    "collapsed": true
   },
   "source": [
    "___\n",
    "## <font color='blue'>Exercício 3</font>\n",
    "\n",
    "### <font color='red'>**Publicar no github até dia 21/03 INDIVIDUAL **</font>\n",
    "\n",
    "Esse exercício irá explorar modelos de distribuição de Poisson.\n",
    "\n",
    "Uma fábrica produz determinado veículo. O gerente de vendas fechou um negócio que implica na produção de pelo menos 110 unidades nos próximos dois meses. Para isso, será construída uma nova linha de montagem com capacidade para produzir em média 50 veículos por mês (considere meses de 30 dias). A linha funcionará ininterruptamente. Além disso, apenas um veículo é produzido por vez. Considere que um modelo Poisson seja adequado para a quantidade de veículos produzidos.\n",
    "   1. Qual a probabilidade  da produção ser igual a 100 veículos nos próximos dois meses?\n",
    "   2. Qual a probabilidade  da produção ser de pelo menos 100 veículos nos próximos dois meses?\n",
    "   3. Qual a probabilidade da produção ser entre 100 e 110 veículos nos próximos dois meses?\n",
    "   4. Se forem produzidos de pelo menos 100 veículos no próximo mês, qual a probabilidade do gerente cumprir a meta negociada?\n",
    "   5. Caso o prazo seja cumprido, o lucro será da ordem de $250$ mil, caso não seja, o lucro cai para $200$ mil. Qual é o lucro esperado e seu desvio-padrão?\n",
    "\n",
    "**Observação:** Explore os comandos de `stats.poisson`. <sup>[http://docs.scipy.org/doc/scipy/reference/generated/scipy.stats.poisson.html]\n"
   ]
  },
  {
   "cell_type": "code",
   "execution_count": 9,
   "metadata": {
    "collapsed": true
   },
   "outputs": [],
   "source": [
    "from scipy.stats import poisson\n",
    "import matplotlib.pyplot as plt\n",
    "import math\n"
   ]
  },
  {
   "cell_type": "markdown",
   "metadata": {},
   "source": [
    "#### 1"
   ]
  },
  {
   "cell_type": "code",
   "execution_count": 10,
   "metadata": {
    "collapsed": false
   },
   "outputs": [
    {
     "data": {
      "text/plain": [
       "0.039860996809148827"
      ]
     },
     "execution_count": 10,
     "metadata": {},
     "output_type": "execute_result"
    }
   ],
   "source": [
    "#1\n",
    "#poisson.pmf(k, mu) -- k é o valor desejado e mu é a média\n",
    "poisson.pmf(100, 100)"
   ]
  },
  {
   "cell_type": "code",
   "execution_count": 11,
   "metadata": {
    "collapsed": false
   },
   "outputs": [
    {
     "name": "stdout",
     "output_type": "stream",
     "text": [
      "0.039860996809147134\n"
     ]
    }
   ],
   "source": [
    "#1 alternativa (fórmula literal)\n",
    "poisson1 = math.exp(-100) * (100**100)/ math.factorial(100)\n",
    "print(poisson1)"
   ]
  },
  {
   "cell_type": "markdown",
   "metadata": {},
   "source": [
    "#### 2"
   ]
  },
  {
   "cell_type": "code",
   "execution_count": 12,
   "metadata": {
    "collapsed": false
   },
   "outputs": [
    {
     "data": {
      "text/plain": [
       "0.47343780147003944"
      ]
     },
     "execution_count": 12,
     "metadata": {},
     "output_type": "execute_result"
    }
   ],
   "source": [
    "#2 --- 1 - cdf\n",
    "poisson.sf(100, 100, loc=0)"
   ]
  },
  {
   "cell_type": "code",
   "execution_count": 13,
   "metadata": {
    "collapsed": false
   },
   "outputs": [
    {
     "data": {
      "text/plain": [
       "0.52656219852996056"
      ]
     },
     "execution_count": 13,
     "metadata": {},
     "output_type": "execute_result"
    }
   ],
   "source": [
    "#\"prova real\"\n",
    "poisson.cdf(100, 100, loc=0)"
   ]
  },
  {
   "cell_type": "markdown",
   "metadata": {},
   "source": [
    "#### 3"
   ]
  },
  {
   "cell_type": "code",
   "execution_count": 22,
   "metadata": {
    "collapsed": false
   },
   "outputs": [
    {
     "name": "stdout",
     "output_type": "stream",
     "text": [
      "Produção entre 100 e 110 36.6161449837 %\n"
     ]
    }
   ],
   "source": [
    "#entre 100 e 110\n",
    "x = poisson.cdf(99, 100) #acumulada até 99\n",
    "y = poisson.cdf(110, 100)#acumulada até 110\n",
    "print(\"Produção entre 100 e 110\", (y-x)*100, '%')"
   ]
  },
  {
   "cell_type": "markdown",
   "metadata": {},
   "source": [
    "#### 4"
   ]
  },
  {
   "cell_type": "code",
   "execution_count": 25,
   "metadata": {
    "collapsed": false,
    "scrolled": true
   },
   "outputs": [
    {
     "name": "stdout",
     "output_type": "stream",
     "text": [
      "Produção de 110, dado que ja foram produzidos 100 no primeiro mês 85.2862651558 %\n"
     ]
    }
   ],
   "source": [
    "prod100 = poisson.cdf(110, 100) - poisson.cdf(10, 100)\n",
    "print ('Produção de 110, dado que ja foram produzidos 100 no primeiro mês', prod100*100,'%')"
   ]
  },
  {
   "cell_type": "markdown",
   "metadata": {},
   "source": [
    "#### 5"
   ]
  },
  {
   "cell_type": "code",
   "execution_count": null,
   "metadata": {
    "collapsed": true
   },
   "outputs": [],
   "source": []
  }
 ],
 "metadata": {
  "anaconda-cloud": {},
  "kernelspec": {
   "display_name": "Python 3",
   "language": "python",
   "name": "python3"
  },
  "language_info": {
   "codemirror_mode": {
    "name": "ipython",
    "version": 3
   },
   "file_extension": ".py",
   "mimetype": "text/x-python",
   "name": "python",
   "nbconvert_exporter": "python",
   "pygments_lexer": "ipython3",
   "version": "3.5.2"
  }
 },
 "nbformat": 4,
 "nbformat_minor": 0
}
