{
 "cells": [
  {
   "cell_type": "markdown",
   "metadata": {},
   "source": [
    "___\n",
    "# PROJETO 3"
   ]
  },
  {
   "cell_type": "markdown",
   "metadata": {},
   "source": [
    "## GRUPO:\n",
    "### Pedro de la Peña\n",
    "### NOME 2\n",
    "___"
   ]
  },
  {
   "cell_type": "code",
   "execution_count": 2,
   "metadata": {
    "collapsed": false
   },
   "outputs": [
    {
     "name": "stdout",
     "output_type": "stream",
     "text": [
      "Esperamos trabalhar no diretório\n",
      "C:\\Users\\pedro\\Documents\\GitHub\\CDAgoraVai\\aula19\n"
     ]
    }
   ],
   "source": [
    "%matplotlib inline\n",
    "import pandas as pd\n",
    "import matplotlib.pyplot as plt\n",
    "import numpy as np\n",
    "import os\n",
    "from scipy import stats\n",
    "\n",
    "print('Esperamos trabalhar no diretório')\n",
    "print(os.getcwd())"
   ]
  },
  {
   "cell_type": "markdown",
   "metadata": {},
   "source": [
    "___\n",
    "## Estudo da Distribuição da Média Amostral  $\\bar{X}$  via SIMULAÇÃO"
   ]
  },
  {
   "cell_type": "markdown",
   "metadata": {
    "collapsed": true
   },
   "source": [
    "### Distribuição escolhida - Poisson, com E(X) = Var(X) = 7"
   ]
  },
  {
   "cell_type": "markdown",
   "metadata": {
    "collapsed": true
   },
   "source": [
    "#### 1) Construindo a população"
   ]
  },
  {
   "cell_type": "code",
   "execution_count": 3,
   "metadata": {
    "collapsed": false
   },
   "outputs": [],
   "source": [
    "poiss = stats.poisson.rvs(mu=7, loc=0, size=1333337)"
   ]
  },
  {
   "cell_type": "code",
   "execution_count": 4,
   "metadata": {
    "collapsed": false
   },
   "outputs": [
    {
     "name": "stdout",
     "output_type": "stream",
     "text": [
      "A média da distribuição teórica é: 7.00277124238\n",
      "\n",
      "A variância da distribuição teórica é: 6.99444083548\n"
     ]
    },
    {
     "data": {
      "image/png": "[encoded data removed]",
      "text/plain": [
       "<matplotlib.figure.Figure at 0x1fe7ad1c9b0>"
      ]
     },
     "metadata": {},
     "output_type": "display_data"
    }
   ],
   "source": [
    "pm = poiss.mean()\n",
    "pv = poiss.std()**2\n",
    "plt.hist(poiss, bins=20, normed=True, color=\"indigo\", alpha=0.6)\n",
    "plt.grid()\n",
    "plt.xlabel = (\"Valor da variável\")\n",
    "plt.ylabel = (\"Frequência absoluta\")\n",
    "print(\"A média da distribuição teórica é:\", pm)\n",
    "print(\"\")\n",
    "print(\"A variância da distribuição teórica é:\", pv)"
   ]
  },
  {
   "cell_type": "markdown",
   "metadata": {
    "collapsed": true
   },
   "source": [
    "#### 2)"
   ]
  },
  {
   "cell_type": "markdown",
   "metadata": {
    "collapsed": true
   },
   "source": [
    "#### n = 2"
   ]
  },
  {
   "cell_type": "code",
   "execution_count": 14,
   "metadata": {
    "collapsed": false
   },
   "outputs": [
    {
     "name": "stdout",
     "output_type": "stream",
     "text": [
      "Média das médias com n = 2: 7.03235\n",
      "Variância das médias com n = 2: 3.4779284775\n"
     ]
    }
   ],
   "source": [
    "medias_n2 = []\n",
    "for i in range(10000):\n",
    "    rc = np.random.choice(poiss, size=2)\n",
    "    medias_n2.append(rc.mean())\n",
    "    i+= 1\n",
    "\n",
    "media_das_medias_n2 = np.mean(medias_n2)\n",
    "\n",
    "var_das_medias_n2 = np.var(medias_n2)\n",
    "\n",
    "print(\"Média das médias com n = 2:\",media_das_medias_n2)\n",
    "print(\"Variância das médias com n = 2:\",var_das_medias_n2)"
   ]
  },
  {
   "cell_type": "code",
   "execution_count": 40,
   "metadata": {
    "collapsed": false
   },
   "outputs": [
    {
     "data": {
      "text/plain": [
       "<matplotlib.text.Text at 0x1fe005eac18>"
      ]
     },
     "execution_count": 40,
     "metadata": {},
     "output_type": "execute_result"
    },
    {
     "data": {
      "image/png": "[encoded data removed]",
      "text/plain": [
       "<matplotlib.figure.Figure at 0x1fe0031ab38>"
      ]
     },
     "metadata": {},
     "output_type": "display_data"
    }
   ],
   "source": [
    "plt.hist(medias_n2, color = 'red', alpha =0.7, normed = True, bins = 20)\n",
    "plt.grid()\n",
    "plt.title(\"n = 2\")"
   ]
  },
  {
   "cell_type": "markdown",
   "metadata": {
    "collapsed": true
   },
   "source": [
    "#### n = 4"
   ]
  },
  {
   "cell_type": "code",
   "execution_count": 15,
   "metadata": {
    "collapsed": false
   },
   "outputs": [
    {
     "name": "stdout",
     "output_type": "stream",
     "text": [
      "Média das médias com n = 4: 6.981325\n",
      "Variância das médias com n = 4: 1.80058249438\n"
     ]
    }
   ],
   "source": [
    "medias_n4 = []\n",
    "for i in range(10000):\n",
    "    rc = np.random.choice(poiss, size=4)\n",
    "    medias_n4.append(rc.mean())\n",
    "    i+= 1\n",
    "\n",
    "media_das_medias_n4 = np.mean(medias_n4)\n",
    "\n",
    "var_das_medias_n4 = np.var(medias_n4)\n",
    "\n",
    "print(\"Média das médias com n = 4:\",media_das_medias_n4)\n",
    "print(\"Variância das médias com n = 4:\",var_das_medias_n4)"
   ]
  },
  {
   "cell_type": "code",
   "execution_count": 39,
   "metadata": {
    "collapsed": false
   },
   "outputs": [
    {
     "data": {
      "text/plain": [
       "<matplotlib.text.Text at 0x1fe7e807a20>"
      ]
     },
     "execution_count": 39,
     "metadata": {},
     "output_type": "execute_result"
    },
    {
     "data": {
      "image/png": "[encoded data removed]",
      "text/plain": [
       "<matplotlib.figure.Figure at 0x1fe7f828160>"
      ]
     },
     "metadata": {},
     "output_type": "display_data"
    }
   ],
   "source": [
    "plt.hist(medias_n4, color = 'red', alpha =0.7, normed = True, bins = 20)\n",
    "plt.grid()\n",
    "plt.title(\"n = 4\")"
   ]
  },
  {
   "cell_type": "markdown",
   "metadata": {
    "collapsed": true
   },
   "source": [
    "#### n = 20"
   ]
  },
  {
   "cell_type": "code",
   "execution_count": 16,
   "metadata": {
    "collapsed": false
   },
   "outputs": [
    {
     "name": "stdout",
     "output_type": "stream",
     "text": [
      "Média das médias com n = 20: 6.995295\n",
      "Variância das médias com n = 20: 0.343499612975\n"
     ]
    }
   ],
   "source": [
    "medias_n20 = []\n",
    "for i in range(10000):\n",
    "    rc = np.random.choice(poiss, size=20)\n",
    "    medias_n20.append(rc.mean())\n",
    "    i+= 1\n",
    "\n",
    "media_das_medias_n20 = np.mean(medias_n20)\n",
    "\n",
    "var_das_medias_n20 = np.var(medias_n20)\n",
    "\n",
    "print(\"Média das médias com n = 20:\",media_das_medias_n20)\n",
    "print(\"Variância das médias com n = 20:\",var_das_medias_n20)"
   ]
  },
  {
   "cell_type": "code",
   "execution_count": 38,
   "metadata": {
    "collapsed": false
   },
   "outputs": [
    {
     "data": {
      "text/plain": [
       "<matplotlib.text.Text at 0x1fe004628d0>"
      ]
     },
     "execution_count": 38,
     "metadata": {},
     "output_type": "execute_result"
    },
    {
     "data": {
      "image/png": "[encoded data removed]",
      "text/plain": [
       "<matplotlib.figure.Figure at 0x1fe018d7e48>"
      ]
     },
     "metadata": {},
     "output_type": "display_data"
    }
   ],
   "source": [
    "plt.hist(medias_n20, color = 'red', alpha =0.7, normed = True, bins = 20)\n",
    "plt.grid()\n",
    "plt.title(\"n = 20\")"
   ]
  },
  {
   "cell_type": "markdown",
   "metadata": {
    "collapsed": true
   },
   "source": [
    "#### n = 50"
   ]
  },
  {
   "cell_type": "code",
   "execution_count": 17,
   "metadata": {
    "collapsed": false
   },
   "outputs": [
    {
     "name": "stdout",
     "output_type": "stream",
     "text": [
      "Média das médias com n = 50: 6.996644\n",
      "Variância das médias com n = 50: 0.141935537264\n"
     ]
    }
   ],
   "source": [
    "medias_n50 = []\n",
    "for i in range(10000):\n",
    "    rc = np.random.choice(poiss, size=50)\n",
    "    medias_n50.append(rc.mean())\n",
    "    i+= 1\n",
    "\n",
    "media_das_medias_n50 = np.mean(medias_n50)\n",
    "\n",
    "var_das_medias_n50 = np.var(medias_n50)\n",
    "\n",
    "print(\"Média das médias com n = 50:\",media_das_medias_n50)\n",
    "print(\"Variância das médias com n = 50:\",var_das_medias_n50)"
   ]
  },
  {
   "cell_type": "code",
   "execution_count": 37,
   "metadata": {
    "collapsed": false
   },
   "outputs": [
    {
     "data": {
      "text/plain": [
       "<matplotlib.text.Text at 0x1fe018a2c18>"
      ]
     },
     "execution_count": 37,
     "metadata": {},
     "output_type": "execute_result"
    },
    {
     "data": {
      "image/png": "[encoded data removed]",
      "text/plain": [
       "<matplotlib.figure.Figure at 0x1fe0187d6a0>"
      ]
     },
     "metadata": {},
     "output_type": "display_data"
    }
   ],
   "source": [
    "plt.hist(medias_n50, color = 'red', alpha =0.7, normed = True, bins = 20)\n",
    "plt.grid()\n",
    "plt.title(\"n = 50\")"
   ]
  },
  {
   "cell_type": "markdown",
   "metadata": {},
   "source": [
    "A partir da observação das médias, variâncias e histogramas, é possível concluir que o aumento do número de amostras selecionadas aleatoriamente faz com que a média das médias se aproxime cada vez mais da média real e a variância se aproxime cada vez mais de 0. O histograma da média das médias também é afetado pelo número de amostras selecionadas, sendo que o aumento do número n faz com que o histograma se aproxime de um histograma de distribuição normal."
   ]
  },
  {
   "cell_type": "markdown",
   "metadata": {
    "collapsed": true
   },
   "source": [
    "___\n",
    "## Estudo da Distribuição de  $\\frac{\\bar{X}-\\mu}{\\sigma\\hspace{1mm}/\\sqrt{n}}$  e de $\\frac{\\bar{X}-\\mu}{S\\hspace{1mm}/\\sqrt{n}}$ via SIMULAÇÃO"
   ]
  },
  {
   "cell_type": "code",
   "execution_count": null,
   "metadata": {
    "collapsed": true
   },
   "outputs": [],
   "source": []
  },
  {
   "cell_type": "code",
   "execution_count": null,
   "metadata": {
    "collapsed": true
   },
   "outputs": [],
   "source": []
  },
  {
   "cell_type": "code",
   "execution_count": null,
   "metadata": {
    "collapsed": true
   },
   "outputs": [],
   "source": []
  },
  {
   "cell_type": "code",
   "execution_count": null,
   "metadata": {
    "collapsed": true
   },
   "outputs": [],
   "source": []
  }
 ],
 "metadata": {
  "anaconda-cloud": {},
  "kernelspec": {
   "display_name": "Python 3",
   "language": "python",
   "name": "python3"
  },
  "language_info": {
   "codemirror_mode": {
    "name": "ipython",
    "version": 3
   },
   "file_extension": ".py",
   "mimetype": "text/x-python",
   "name": "python",
   "nbconvert_exporter": "python",
   "pygments_lexer": "ipython3",
   "version": "3.5.2"
  }
 },
 "nbformat": 4,
 "nbformat_minor": 0
}
