{
 "cells": [
  {
   "cell_type": "markdown",
   "metadata": {},
   "source": [
    "# Projeto 4: Teste AB"
   ]
  },
  {
   "cell_type": "markdown",
   "metadata": {},
   "source": [
    "\n",
    "### Pedro de la Peña"
   ]
  },
  {
   "cell_type": "markdown",
   "metadata": {},
   "source": [
    " "
   ]
  },
  {
   "cell_type": "markdown",
   "metadata": {},
   "source": [
    "## Introdução:"
   ]
  },
  {
   "cell_type": "markdown",
   "metadata": {},
   "source": [
    "League of Legends é, atualmente, o jogo para computadores mais jogado no mundo. Ele é um jogo de estratégia em tempo real e é voltado para a batalha de jogadores contra jogadores (players contra players ou PvP). As principais disputas ocorrem no mapa Summoners Rift, um campo de batalha em que 10 jogadores se dividem igualmente em duas equipes, azul e vermelha. Cada lado do mapa tem suas vantagens e desvantagens e alguns jogadores podem se sentir mais à vontade jogando em um lado lado que no outro.\n",
    "\n",
    "As partidas tem sua duração variada, com média aproximada de 35~40 minutos. Nela, os jogadores precisam conquistar a porção do mapa do time dos oponentes e a partida tem fim quando um dos times destroi a unidade central (Nexus) dos oponentes. Deste modo, é importante notar que não é possivel ocorrer um empate.\n",
    "\n",
    "No decorrer dos minutos da partida, os jogadores, além de se confrontarem, precisam fazer objetivos para ganhar espaço no mapa e aumentar suas condições de vitória. A maioria dos objetivos do jogo garante ouro para o jogador e/ou sua equipe e isso possibilita a aquisição de itens que fortificam os personagens dos jogadores. Na maioria das vezes, a equipe vencedora possui, por consequência, mais ouro e mais itens.\n",
    "\n",
    "Os valores de ouro das duas equipes foram coletados a partir de 100 partidas aleatórias do meu (Pedro de la Peña) histórico de partidas. Vale lembrar que os jogadores não conseguem escolher em que lado do mapa irão jogar quando entram em uma partida.\n",
    "Os jogos foram coletados a partir do site: http://matchhistory.br.leagueoflegends.com/pt/#match-history/BR1/205641583"
   ]
  },
  {
   "cell_type": "code",
   "execution_count": 1,
   "metadata": {
    "collapsed": false
   },
   "outputs": [],
   "source": [
    "import pandas as pd\n",
    "import json\n",
    "import itertools\n",
    "import matplotlib.pyplot as plt\n",
    "import numpy as np\n",
    "from scipy import stats\n",
    "%matplotlib inline"
   ]
  },
  {
   "cell_type": "markdown",
   "metadata": {},
   "source": [
    "#### Leitura do arquivo"
   ]
  },
  {
   "cell_type": "code",
   "execution_count": 2,
   "metadata": {
    "collapsed": false,
    "scrolled": true
   },
   "outputs": [],
   "source": [
    "gold = pd.read_excel('gold_team.xlsx')"
   ]
  },
  {
   "cell_type": "code",
   "execution_count": 3,
   "metadata": {
    "collapsed": false
   },
   "outputs": [
    {
     "data": {
      "text/html": [
       "<div>\n",
       "<table border=\"1\" class=\"dataframe\">\n",
       "  <thead>\n",
       "    <tr style=\"text-align: right;\">\n",
       "      <th></th>\n",
       "      <th>Azul</th>\n",
       "      <th>Vermelho</th>\n",
       "    </tr>\n",
       "  </thead>\n",
       "  <tbody>\n",
       "    <tr>\n",
       "      <th>count</th>\n",
       "      <td>100.000000</td>\n",
       "      <td>100.000000</td>\n",
       "    </tr>\n",
       "    <tr>\n",
       "      <th>mean</th>\n",
       "      <td>59.434000</td>\n",
       "      <td>61.821000</td>\n",
       "    </tr>\n",
       "    <tr>\n",
       "      <th>std</th>\n",
       "      <td>17.671739</td>\n",
       "      <td>16.768099</td>\n",
       "    </tr>\n",
       "    <tr>\n",
       "      <th>min</th>\n",
       "      <td>23.000000</td>\n",
       "      <td>26.400000</td>\n",
       "    </tr>\n",
       "    <tr>\n",
       "      <th>25%</th>\n",
       "      <td>46.875000</td>\n",
       "      <td>50.550000</td>\n",
       "    </tr>\n",
       "    <tr>\n",
       "      <th>50%</th>\n",
       "      <td>59.950000</td>\n",
       "      <td>60.800000</td>\n",
       "    </tr>\n",
       "    <tr>\n",
       "      <th>75%</th>\n",
       "      <td>67.750000</td>\n",
       "      <td>73.900000</td>\n",
       "    </tr>\n",
       "    <tr>\n",
       "      <th>max</th>\n",
       "      <td>119.900000</td>\n",
       "      <td>105.000000</td>\n",
       "    </tr>\n",
       "  </tbody>\n",
       "</table>\n",
       "</div>"
      ],
      "text/plain": [
       "             Azul    Vermelho\n",
       "count  100.000000  100.000000\n",
       "mean    59.434000   61.821000\n",
       "std     17.671739   16.768099\n",
       "min     23.000000   26.400000\n",
       "25%     46.875000   50.550000\n",
       "50%     59.950000   60.800000\n",
       "75%     67.750000   73.900000\n",
       "max    119.900000  105.000000"
      ]
     },
     "execution_count": 3,
     "metadata": {},
     "output_type": "execute_result"
    }
   ],
   "source": [
    "gold.describe()"
   ]
  },
  {
   "cell_type": "code",
   "execution_count": 4,
   "metadata": {
    "collapsed": true
   },
   "outputs": [],
   "source": [
    "df = pd.DataFrame()\n",
    "df[\"Azul\"] = gold.Azul\n",
    "df[\"Vermelho\"] = gold.Vermelho"
   ]
  },
  {
   "cell_type": "markdown",
   "metadata": {},
   "source": [
    "#### Histograma de ouro por equipe"
   ]
  },
  {
   "cell_type": "code",
   "execution_count": 5,
   "metadata": {
    "collapsed": false
   },
   "outputs": [
    {
     "data": {
      "image/png": "[encoded data removed]",
      "text/plain": [
       "<matplotlib.figure.Figure at 0x28a4922bda0>"
      ]
     },
     "metadata": {},
     "output_type": "display_data"
    }
   ],
   "source": [
    "gold.Azul.plot(kind='hist',bins=16,xlim=[20,120],ylim=[0,0.035], title= \"Ouro por Equipe - Azul\", alpha =0.7, normed=1)\n",
    "plt.ylabel(\"Freq. (%)\")\n",
    "plt.xlabel(\"Ouro total (em milhares)\")\n",
    "plt.grid()"
   ]
  },
  {
   "cell_type": "code",
   "execution_count": 6,
   "metadata": {
    "collapsed": false
   },
   "outputs": [
    {
     "data": {
      "image/png": "[encoded data removed]",
      "text/plain": [
       "<matplotlib.figure.Figure at 0x28a4936d940>"
      ]
     },
     "metadata": {},
     "output_type": "display_data"
    }
   ],
   "source": [
    "gold.Vermelho.plot(kind='hist',bins=16,xlim=[20,120], ylim=[0,0.035], title= \"Ouro por Equipe - Vermelha\", alpha =0.7, color='red',normed=1)\n",
    "plt.ylabel(\"Freq. (%)\")\n",
    "plt.xlabel(\"Ouro total (em milhares)\")\n",
    "plt.grid()"
   ]
  },
  {
   "cell_type": "markdown",
   "metadata": {},
   "source": [
    "## Teste de hipótese"
   ]
  },
  {
   "cell_type": "markdown",
   "metadata": {},
   "source": [
    "A empresa responsável pelo jogo, RIOT Games, preza pelo balanceamento nas partidas e, portanto, o unico critério que deveria afetar o resultado de uma partida são as habilidades dos próprios jogadores. Logo, a hipótese nula foi definida como o ouro médio ganho por partida sendo igual tanto para a equipe azul quanto para a equipe vermelha (H0:μa=μv) e a hipótese alternativa como o valor médio do ouro ganho sendo diferente entre as equipes (H1:μa ≠ μv). \n",
    "\n",
    "Pelo fato de não possuir muitas amostras e a partir delas não haver forte evidência de ser uma distribuição normal, foi necessário realizar a padronização por meio de um bootstrap. Para isso, 10000 valores aleatórios das amostras de cada uma das equipes foram selecionados e então a diferença entre esses valores foram adicionados à uma lista. Após obter esses valores, foi realizado o teste z."
   ]
  },
  {
   "cell_type": "code",
   "execution_count": 42,
   "metadata": {
    "collapsed": false
   },
   "outputs": [],
   "source": [
    "difgold = []\n",
    "\n",
    "n = 10000\n",
    "for i in range(n):\n",
    "    ga = np.random.choice(gold.Azul) #Seleciona valor aleatório da equipe azul\n",
    "    gv = np.random.choice(gold.Vermelho) #Seleciona valor aleatório da equipe vermelha\n",
    "    gd = ga - gv\n",
    "    difgold.append(gd)"
   ]
  },
  {
   "cell_type": "code",
   "execution_count": 50,
   "metadata": {
    "collapsed": false
   },
   "outputs": [
    {
     "data": {
      "image/png": "[encoded data removed]",
      "text/plain": [
       "<matplotlib.figure.Figure at 0x28a4a1ac7b8>"
      ]
     },
     "metadata": {},
     "output_type": "display_data"
    }
   ],
   "source": [
    "plt.hist(difgold, alpha=0.5, color='purple', normed=1)\n",
    "plt.title(\"Diferença de ouro\")\n",
    "plt.xlabel(\"Ouro (em milhares)\")\n",
    "plt.ylabel(\"Freq (%)\")\n",
    "plt.grid()"
   ]
  },
  {
   "cell_type": "code",
   "execution_count": 69,
   "metadata": {
    "collapsed": false
   },
   "outputs": [
    {
     "name": "stdout",
     "output_type": "stream",
     "text": [
      "Diferença das médias observadas: -2.3870000000000076\n",
      "Média das Amostras: -2.82252\n",
      "Desvio padrão amostral: 24.407883375\n",
      "Valor de z: 0.0178434153141\n"
     ]
    }
   ],
   "source": [
    "#Diferença das médias de ouro observadas\n",
    "dmgObs = gold.Azul.mean() - gold.Vermelho.mean()\n",
    "\n",
    "#Média Amostral\n",
    "mdg= np.mean(difgold)\n",
    "    \n",
    "#Desvio Padrão Amostral\n",
    "dpg = np.std(difgold)\n",
    "\n",
    "#distribuição z\n",
    "z=(dmgObs - mdg)/(dpg)\n",
    "\n",
    "#Print de valores\n",
    "print(\"Diferença das médias observadas:\", dmgObs)\n",
    "print(\"Média das Amostras:\", mdg)\n",
    "print(\"Desvio padrão amostral:\",dpg)\n",
    "print(\"Valor de z:\", z)"
   ]
  },
  {
   "cell_type": "markdown",
   "metadata": {},
   "source": [
    "### Análise da posição do valor-p em relação ao alpha"
   ]
  },
  {
   "cell_type": "code",
   "execution_count": 70,
   "metadata": {
    "collapsed": false
   },
   "outputs": [
    {
     "name": "stdout",
     "output_type": "stream",
     "text": [
      "0.492881884926\n",
      "\n",
      "Com o nível de significância alpha= 10%, o teste T NÃO REJEITA a hipótese nula\n",
      "Com o nível de significância alpha= 5%, o teste T NÃO REJEITA a hipótese nula\n",
      "Com o nível de significância alpha= 1%, o teste T NÃO REJEITA a hipótese nula\n"
     ]
    }
   ],
   "source": [
    "pvalue = stats.norm.sf(z)\n",
    "print(pvalue)\n",
    "print()\n",
    "\n",
    "alpha=0.1\n",
    "if(pvalue> 1-alpha):\n",
    "    print(\"Com o nível de significância alpha= 10%, o teste T REJEITA a hipótese nula\")\n",
    "else:\n",
    "    print(\"Com o nível de significância alpha= 10%, o teste T NÃO REJEITA a hipótese nula\")\n",
    "    \n",
    "alpha2=0.05\n",
    "if(pvalue> 1-alpha2):\n",
    "    print(\"Com o nível de significância alpha= 5%, o teste T REJEITA a hipótese nula\")\n",
    "else:\n",
    "    print(\"Com o nível de significância alpha= 5%, o teste T NÃO REJEITA a hipótese nula\")\n",
    "    \n",
    "alpha3=0.01\n",
    "if(pvalue> 1-alpha3):\n",
    "    print(\"Com o nível de significância alpha= 1%, o teste T REJEITA a hipótese nula\")\n",
    "else:\n",
    "    print(\"Com o nível de significância alpha= 1%, o teste T NÃO REJEITA a hipótese nula\")    "
   ]
  },
  {
   "cell_type": "markdown",
   "metadata": {},
   "source": [
    "## Conclusão: ###"
   ]
  },
  {
   "cell_type": "markdown",
   "metadata": {
    "collapsed": true
   },
   "source": [
    "Após os teste, foi percebido que a hipotese nula é não rejeitada com um nivel de significancia de 10%, 5% e 1% indicando que o a equipe que o jogador fará parte não tem influência na quantidade de ouro que será recebida até o final da partida pelas equipes. \n",
    "\n",
    "Conclui-se que, ao analisar os dados coletados, com nível de confiança de 99%, a alteração da equipe não influencia o ganho de ouro final e que o balanceamento das equipes para esse quesito está boa e consequentemente, o balanceamento geral das partidas também."
   ]
  },
  {
   "cell_type": "code",
   "execution_count": null,
   "metadata": {
    "collapsed": true
   },
   "outputs": [],
   "source": []
  }
 ],
 "metadata": {
  "anaconda-cloud": {},
  "kernelspec": {
   "display_name": "Python 3",
   "language": "python",
   "name": "python3"
  },
  "language_info": {
   "codemirror_mode": {
    "name": "ipython",
    "version": 3
   },
   "file_extension": ".py",
   "mimetype": "text/x-python",
   "name": "python",
   "nbconvert_exporter": "python",
   "pygments_lexer": "ipython3",
   "version": "3.5.2"
  }
 },
 "nbformat": 4,
 "nbformat_minor": 0
}
