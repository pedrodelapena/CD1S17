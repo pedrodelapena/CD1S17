{
 "cells": [
  {
   "cell_type": "markdown",
   "metadata": {},
   "source": [
    "___\n",
    "# PROJETO 1"
   ]
  },
  {
   "cell_type": "markdown",
   "metadata": {},
   "source": [
    "## <font color='red'>Pedro de la Peña</font>\n",
    "___"
   ]
  },
  {
   "cell_type": "markdown",
   "metadata": {},
   "source": [
    "## Como épocas de prosperidade econômica influenciam na qualidade de vida da população"
   ]
  },
  {
   "cell_type": "markdown",
   "metadata": {},
   "source": [
    "## Introdução\n",
    "\n",
    "Foram escolhidos dois anos distintos para serem analisados no Brasil: os anos de  <strong> 2011 e 2015</strong> para analizar e comparar suas condições de vida e de trabalho.\n",
    "\n",
    "(introdução)\n"
   ]
  },
  {
   "cell_type": "markdown",
   "metadata": {},
   "source": [
    "Historico econômico no Brasil\n",
    "\n",
    "2011 - https://economia.uol.com.br/noticias/redacao/2012/03/06/economia-brasileira-cresce-27-em-2011-e-fica-abaixo-da-meta-do-governo.htm\n",
    "\n",
    "2012 - https://economia.uol.com.br/noticias/redacao/2013/03/01/pib-2012.htm\n",
    "\n",
    "2013 - http://g1.globo.com/economia/noticia/2014/02/economia-brasileira-avancou-23-em-2013-diz-ibge.html\n",
    "\n",
    "2014 - https://economia.uol.com.br/noticias/redacao/2015/03/27/pib-2014.htm\n",
    "\n",
    "2015 - http://www1.folha.uol.com.br/mercado/2015/12/1724604-a-tragedia-da-economia-brasileira-em-2015-em-7-graficos.shtml"
   ]
  },
  {
   "cell_type": "markdown",
   "metadata": {},
   "source": [
    "___\n",
    "## Análise e Resultados"
   ]
  },
  {
   "cell_type": "code",
   "execution_count": 2,
   "metadata": {
    "collapsed": true
   },
   "outputs": [],
   "source": [
    "%matplotlib inline\n",
    "import pandas as pd\n",
    "import matplotlib.pyplot as plt\n",
    "import numpy as np\n",
    "import os"
   ]
  },
  {
   "cell_type": "code",
   "execution_count": 3,
   "metadata": {
    "collapsed": false
   },
   "outputs": [
    {
     "name": "stdout",
     "output_type": "stream",
     "text": [
      "Esperamos trabalhar no diretório\n",
      "C:\\Users\\pedro\\Desktop\\Projeto 1\n"
     ]
    }
   ],
   "source": [
    "print('Esperamos trabalhar no diretório')\n",
    "print(os.getcwd())"
   ]
  },
  {
   "cell_type": "markdown",
   "metadata": {},
   "source": [
    "# PNAD 2015"
   ]
  },
  {
   "cell_type": "code",
   "execution_count": 179,
   "metadata": {
    "collapsed": false
   },
   "outputs": [],
   "source": [
    "#Pnad 2015\n",
    "p15 = pd.read_csv('DOM2015csv.zip', sep=',')"
   ]
  },
  {
   "cell_type": "code",
   "execution_count": 165,
   "metadata": {
    "collapsed": false
   },
   "outputs": [
    {
     "data": {
      "text/plain": [
       "(115624, 81)"
      ]
     },
     "execution_count": 165,
     "metadata": {},
     "output_type": "execute_result"
    }
   ],
   "source": [
    "p15.shape"
   ]
  },
  {
   "cell_type": "code",
   "execution_count": 166,
   "metadata": {
    "collapsed": true
   },
   "outputs": [],
   "source": [
    "n = p15.shape[0]"
   ]
  },
  {
   "cell_type": "markdown",
   "metadata": {},
   "source": [
    "# Qualitativas: V0201, V0220, V0226, V0231"
   ]
  },
  {
   "cell_type": "code",
   "execution_count": 268,
   "metadata": {
    "collapsed": false
   },
   "outputs": [],
   "source": [
    "#Especie do domicilio\n",
    "p15['V0201'] = p15['V0201'].astype('category')\n",
    "p15.V0201.cat.categories = ('Particular Permanente','Particular improvisado', 'Coletivo')\n",
    "\n",
    "#Telefone Celular\n",
    "p15['V0220'] = p15['V0220'].astype('category')\n",
    "p15.V0220.cat.categories = ('Sim', 'Não')\n",
    "\n",
    "#Tem televisão\n",
    "p15['V0226'] = p15['V0226'].astype('category')\n",
    "p15.V0226.cat.categories = ('Sim', 'Não')\n",
    "\n",
    "#Tem computador\n",
    "p15['V0231'] = p15['V0231'].astype('category')\n",
    "p15.V0231.cat.categories = ('Sim', 'Não')"
   ]
  },
  {
   "cell_type": "markdown",
   "metadata": {},
   "source": [
    "# Quantitativas: UF, V4620, V4621, V4105, V0205"
   ]
  },
  {
   "cell_type": "code",
   "execution_count": 172,
   "metadata": {
    "collapsed": false
   },
   "outputs": [],
   "source": [
    "#Separação por regiões\n",
    "df1 = pd.DataFrame()\n",
    "df1['Regiao']= p15.UF\n",
    "\n",
    "df1.Regiao[(p15.UF>=10) & (p15.UF<20)]=1\n",
    "df1.Regiao[(p15.UF>=20) & (p15.UF<30)]=2\n",
    "df1.Regiao[(p15.UF>=30) & (p15.UF<40)]=3\n",
    "df1.Regiao[(p15.UF>=40) & (p15.UF<50)]=4\n",
    "df1.Regiao[(p15.UF>=50) & (p15.UF<60)]=5\n",
    "\n",
    "df1['Regiao'] = df1['Regiao'].astype('category')\n",
    "df1.Regiao.cat.categories = ('Norte', 'Nordeste', 'Sudeste', 'Sul', 'Centro_Oeste')"
   ]
  },
  {
   "cell_type": "code",
   "execution_count": 267,
   "metadata": {
    "collapsed": false
   },
   "outputs": [],
   "source": [
    "#Componentes por domicilio\n",
    "df2 = pd.DataFrame()\n",
    "df2['Pessoas_por_Domicilio'] = p15.V4620\n",
    "df2.Pessoas_por_Domicilio.value_counts()\n",
    "\n",
    "df2.Pessoas_por_Domicilio[(p15.V4620>0) & (p15.V4620<6)] = 1\n",
    "df2.Pessoas_por_Domicilio[(p15.V4620>=6) & (p15.V4620<11)]  = 2\n",
    "df2.Pessoas_por_Domicilio[(p15.V4620>=11) & (p15.V4620<16)] = 3\n",
    "df2.Pessoas_por_Domicilio[(p15.V4620>16) & (p15.V4620<21)] = 4\n",
    "df2.Pessoas_por_Domicilio[(p15.V4620>=21)] = 5\n",
    "\n",
    "df2['Pessoas_por_Domicilio'] = df2['Pessoas_por_Domicilio'].astype('category')\n",
    "df2.Pessoas_por_Domicilio.cat.categories = ('1~5', '6~10', '11~15', '16~20', '21~30')"
   ]
  },
  {
   "cell_type": "code",
   "execution_count": 202,
   "metadata": {
    "collapsed": false
   },
   "outputs": [],
   "source": [
    "#Renda domiciliar mensal em salarios minimos 2015\n",
    "df3 = pd.DataFrame()\n",
    "df3['SM'] = p15.V4621/788\n",
    "df3 = df3[df3.SM <100]"
   ]
  },
  {
   "cell_type": "code",
   "execution_count": 266,
   "metadata": {
    "collapsed": true
   },
   "outputs": [],
   "source": [
    "#Situação censitária\n",
    "df4 = pd.DataFrame()\n",
    "df4['Situação_Sensitária'] = p15.V4105\n",
    "\n",
    "df4.Situação_Sensitária[(p15.V4105>=1) & (p15.V4105<4)] = 1\n",
    "df4.Situação_Sensitária[(p15.V4105>=4) & (p15.V4105<9)] = 2\n",
    "\n",
    "df4['Situação_Sensitária'] = df4['Situação_Sensitária'].astype('category')\n",
    "df4.Situação_Sensitária.cat.categories = ('Urbana', 'Rural')"
   ]
  },
  {
   "cell_type": "code",
   "execution_count": 241,
   "metadata": {
    "collapsed": false
   },
   "outputs": [],
   "source": [
    "df5 = pd.DataFrame()\n",
    "df5['Comodos_por_domicílio'] = p15.V0205"
   ]
  },
  {
   "cell_type": "markdown",
   "metadata": {},
   "source": [
    "# PNAD 2011"
   ]
  },
  {
   "cell_type": "code",
   "execution_count": 12,
   "metadata": {
    "collapsed": true
   },
   "outputs": [],
   "source": [
    "p11 = pd.read_csv('DOM2011csv.zip', sep=',')"
   ]
  },
  {
   "cell_type": "code",
   "execution_count": 13,
   "metadata": {
    "collapsed": false
   },
   "outputs": [
    {
     "data": {
      "text/plain": [
       "(146207, 66)"
      ]
     },
     "execution_count": 13,
     "metadata": {},
     "output_type": "execute_result"
    }
   ],
   "source": [
    "p11.shape"
   ]
  },
  {
   "cell_type": "code",
   "execution_count": 14,
   "metadata": {
    "collapsed": true
   },
   "outputs": [],
   "source": [
    "m = p11.shape[0]"
   ]
  },
  {
   "cell_type": "markdown",
   "metadata": {},
   "source": [
    "# Qualitativas: V0201, V0220, V0226, V0232"
   ]
  },
  {
   "cell_type": "code",
   "execution_count": 99,
   "metadata": {
    "collapsed": true
   },
   "outputs": [],
   "source": [
    "#Especie do domicilio\n",
    "p11['V0201'] = p11['V0201'].astype('category')\n",
    "p11.V0201.cat.categories = ('Particular Permanente','Particular improvisado', 'Coletivo')\n",
    "\n",
    "#Telefone Celular\n",
    "p11['V0220'] = p11['V0220'].astype('category')\n",
    "p11.V0220.cat.categories = ('Sim', 'Não')\n",
    "\n",
    "#Tem televisão\n",
    "p11['V0226'] = p11['V0226'].astype('category')\n",
    "p11.V0226.cat.categories = ('Sim', 'Não')\n",
    "\n",
    "#Tem computador\n",
    "p11['V0231'] = p11['V0231'].astype('category')\n",
    "p11.V0231.cat.categories = ('Sim', 'Não')"
   ]
  },
  {
   "cell_type": "markdown",
   "metadata": {},
   "source": [
    "# Quantitativas: V4620, V4621, V4105, V0205"
   ]
  },
  {
   "cell_type": "code",
   "execution_count": 16,
   "metadata": {
    "collapsed": false
   },
   "outputs": [],
   "source": [
    "#Componentes por domicilio - 2011\n",
    "df2a = pd.DataFrame()\n",
    "df2a['Pessoas_por_Domicilio_11'] = p11.V4620\n",
    "\n",
    "df2a.Pessoas_por_Domicilio_11[(p11.V4620>=1) & (p11.V4620<6)] = 1\n",
    "df2a.Pessoas_por_Domicilio_11[(p11.V4620>=6) & (p11.V4620<11)]  = 2\n",
    "df2a.Pessoas_por_Domicilio_11[(p11.V4620>=11) & (p11.V4620<16)] = 3\n",
    "df2a.Pessoas_por_Domicilio_11[(p11.V4620>=16) & (p11.V4620<21)] = 4\n",
    "df2a.Pessoas_por_Domicilio_11[(p11.V4620>=21)] = 5\n",
    "\n",
    "\n",
    "df2a['Pessoas_por_Domicilio_11'] = df2a['Pessoas_por_Domicilio_11'].astype('category')\n",
    "df2a.Pessoas_por_Domicilio_11.cat.categories = ('1~5', '6~10', '11~15', '16~20', '21~30')"
   ]
  },
  {
   "cell_type": "code",
   "execution_count": 205,
   "metadata": {
    "collapsed": false
   },
   "outputs": [],
   "source": [
    "#Renda domiciliar mensal\n",
    "df3a = pd.DataFrame()\n",
    "df3a['SM_11'] = p11.V4621/545\n",
    "df3a = df3a[df3a.SM_11 <1000]"
   ]
  },
  {
   "cell_type": "code",
   "execution_count": 261,
   "metadata": {
    "collapsed": false
   },
   "outputs": [],
   "source": [
    "#Situação censitária - 2011\n",
    "df4a = pd.DataFrame()\n",
    "df4a['Situação_Sensitária_11'] = p11.V4105\n",
    "\n",
    "df4a.Situação_Sensitária_11[(p11.V4105>=1) & (p11.V4105<4)] = 1\n",
    "df4a.Situação_Sensitária_11[(p11.V4105>=4) & (p11.V4105<9)] = 2\n",
    "\n",
    "df4a['Situação_Sensitária_11'] = df4a['Situação_Sensitária_11'].astype('category')\n",
    "df4a.Situação_Sensitária_11.cat.categories = ('Urbana', 'Rural')"
   ]
  },
  {
   "cell_type": "code",
   "execution_count": 240,
   "metadata": {
    "collapsed": false
   },
   "outputs": [],
   "source": [
    "df5a = pd.DataFrame()\n",
    "df5a['Comodos_por_domicílio_11'] = p11.V0205"
   ]
  },
  {
   "cell_type": "markdown",
   "metadata": {},
   "source": [
    "#  "
   ]
  },
  {
   "cell_type": "markdown",
   "metadata": {},
   "source": [
    "#  "
   ]
  },
  {
   "cell_type": "markdown",
   "metadata": {},
   "source": [
    "# Gráficos, tabelas, resultados e comparações das PNADs"
   ]
  },
  {
   "cell_type": "markdown",
   "metadata": {},
   "source": [
    "# OS GRÁFICOS AINDA ESTÃO FORA DE ORDEM E AS ANÁLISES ESTÃO INCOMPLETAS ATÉ AGORA"
   ]
  },
  {
   "cell_type": "markdown",
   "metadata": {},
   "source": [
    "## Obs: As análises dos dados obtidos encontram-se logo após os referidos (ou não ainda)"
   ]
  },
  {
   "cell_type": "code",
   "execution_count": 50,
   "metadata": {
    "collapsed": false,
    "scrolled": false
   },
   "outputs": [
    {
     "name": "stdout",
     "output_type": "stream",
     "text": [
      "Pessoas por domicilio - 2015\n",
      "1~5      111215\n",
      "6~10       6592\n",
      "11~15       123\n",
      "21~30         8\n",
      "16~20         1\n",
      "Name: Pessoas_por_Domicilio, dtype: int64\n",
      "  \n",
      "     \n",
      "Situação Censitária - 2015\n",
      "Urbana                   127457\n",
      "Rural Isolada             22015\n",
      "Urbana Isolada             1097\n",
      "Rural Extensão Urbana       620\n",
      "Name: Situação_Sensitária, dtype: int64\n",
      "'\n",
      "\n",
      "       \n",
      "     \n",
      "Pessoas por domicilio - 2011\n",
      "1~5      103794\n",
      "6~10       8010\n",
      "11~15       174\n",
      "16~20         7\n",
      "21~30         1\n",
      "Name: Pessoas_por_Domicilio_11, dtype: int64\n",
      "\n",
      "     \n",
      "Situação Sensitária - 2011\n",
      "Urbana                   122697\n",
      "Rural Isolada             21877\n",
      "Urbana Isolada             1059\n",
      "Rural Extensão Urbana       574\n",
      "Name: Situação_Sensitária_11, dtype: int64\n"
     ]
    }
   ],
   "source": [
    "#Total pessoas por domicilio 2015\n",
    "print(\"Pessoas por domicilio - 2015\")\n",
    "print(df2.Pessoas_por_Domicilio.value_counts())\n",
    "print('''  \n",
    "     ''')\n",
    "print(\"Situação Censitária - 2015\")\n",
    "print(df4.Situação_Sensitária.value_counts())\n",
    "print(''''\n",
    "\n",
    "       \n",
    "     ''')\n",
    "\n",
    "#Total pessoas por domicilio 2011\n",
    "print(\"Pessoas por domicilio - 2011\")\n",
    "print(df2a.Pessoas_por_Domicilio_11.value_counts())\n",
    "print('''\n",
    "     ''')\n",
    "print(\"Situação Sensitária - 2011\")\n",
    "print(df4a.Situação_Sensitária_11.value_counts())"
   ]
  },
  {
   "cell_type": "markdown",
   "metadata": {},
   "source": [
    " "
   ]
  },
  {
   "cell_type": "markdown",
   "metadata": {},
   "source": [
    " "
   ]
  },
  {
   "cell_type": "code",
   "execution_count": 144,
   "metadata": {
    "collapsed": false
   },
   "outputs": [
    {
     "data": {
      "text/plain": [
       "<matplotlib.text.Text at 0x2919bb66a20>"
      ]
     },
     "execution_count": 144,
     "metadata": {},
     "output_type": "execute_result"
    },
    {
     "data": {
      "image/png": "[encoded data removed]",
      "text/plain": [
       "<matplotlib.figure.Figure at 0x2919e26ccc0>"
      ]
     },
     "metadata": {},
     "output_type": "display_data"
    }
   ],
   "source": [
    "#2015 celular\n",
    "fig = plt.figure(figsize=(12,6))\n",
    "plt.subplot(121)\n",
    "cel15 = (p15.V0220.value_counts(True)*100).round(decimals=1).reindex(['Sim', 'Não'])\n",
    "plot = cel15.plot(kind='pie',title='Tem Celular - 2015',autopct='%.1f',)\n",
    "plt.ylabel('Freq.Relativa (%)')\n",
    "\n",
    "#2011 celular\n",
    "plt.subplot(122)\n",
    "cel11 = (p11.V0220.value_counts(True)*100).round(decimals=1).reindex(['Sim', 'Não'])\n",
    "plot = cel11.plot(kind='pie',title='Tem Celular - 2011',autopct='%.1f',colors=('c','r'))\n",
    "plt.ylabel('Freq.Relativa (%)')"
   ]
  },
  {
   "cell_type": "markdown",
   "metadata": {},
   "source": [
    "Em apenas 4 anos, cerca de 5% da população que não detinha um celular passou a possuir."
   ]
  },
  {
   "cell_type": "markdown",
   "metadata": {},
   "source": [
    " "
   ]
  },
  {
   "cell_type": "code",
   "execution_count": 146,
   "metadata": {
    "collapsed": false,
    "scrolled": false
   },
   "outputs": [
    {
     "data": {
      "text/plain": [
       "<matplotlib.text.Text at 0x2919bea3cc0>"
      ]
     },
     "execution_count": 146,
     "metadata": {},
     "output_type": "execute_result"
    },
    {
     "data": {
      "image/png": "[encoded data removed]",
      "text/plain": [
       "<matplotlib.figure.Figure at 0x2919b5d05f8>"
      ]
     },
     "metadata": {},
     "output_type": "display_data"
    }
   ],
   "source": [
    "#2015\n",
    "fig = plt.figure(figsize=(12,6))\n",
    "plt.subplot(121)\n",
    "pc15 = (p15.V0231.value_counts(True)*100).round(decimals=1).reindex(['Sim', 'Não'])\n",
    "plot = pc15.plot(kind='pie',title='Tem Computador - 2015',autopct='%.1f',)\n",
    "plt.ylabel('Freq.Relativa (%)')\n",
    "\n",
    "#2011\n",
    "plt.subplot(122)\n",
    "pc11 = (p11.V0231.value_counts(True)*100).round(decimals=1).reindex(['Sim', 'Não'])\n",
    "plot = pc11.plot(kind='pie',title='Tem Computador - 2011',autopct='%.1f',colors=('c','r'))\n",
    "plt.ylabel('Freq.Relativa (%)')"
   ]
  },
  {
   "cell_type": "markdown",
   "metadata": {},
   "source": [
    "Em relação à possessão ou não de computadores, o número aumentou menos quando comparado aos dados de possessão de celular ao longo do mesmo período (cerca de 3,2%), mostrando que celulares se tornaram mais desejados que computadores. Além disso, mais de 90% da população declarou que possuia celular em 2015, enquanto, para os usuários de computador, o número permaneceu inferior a 50% nos dois anos analisados."
   ]
  },
  {
   "cell_type": "markdown",
   "metadata": {},
   "source": [
    " "
   ]
  },
  {
   "cell_type": "markdown",
   "metadata": {},
   "source": [
    " "
   ]
  },
  {
   "cell_type": "code",
   "execution_count": 79,
   "metadata": {
    "collapsed": true
   },
   "outputs": [],
   "source": [
    "def percConvert(tab):\n",
    "  return (tab/float(tab[-1])*100).round(decimals=3)"
   ]
  },
  {
   "cell_type": "code",
   "execution_count": 83,
   "metadata": {
    "collapsed": false
   },
   "outputs": [
    {
     "name": "stdout",
     "output_type": "stream",
     "text": [
      "Frequencia relativa de Tipo de Domicílio por Região - 2015\n"
     ]
    },
    {
     "data": {
      "text/html": [
       "<div>\n",
       "<table border=\"1\" class=\"dataframe\">\n",
       "  <thead>\n",
       "    <tr style=\"text-align: right;\">\n",
       "      <th>Domicílio</th>\n",
       "      <th>Particular Permanente</th>\n",
       "      <th>Particular improvisado</th>\n",
       "      <th>Coletivo</th>\n",
       "      <th>All</th>\n",
       "    </tr>\n",
       "    <tr>\n",
       "      <th>Região</th>\n",
       "      <th></th>\n",
       "      <th></th>\n",
       "      <th></th>\n",
       "      <th></th>\n",
       "    </tr>\n",
       "  </thead>\n",
       "  <tbody>\n",
       "    <tr>\n",
       "      <th>Norte</th>\n",
       "      <td>99.685</td>\n",
       "      <td>0.267</td>\n",
       "      <td>0.048</td>\n",
       "      <td>100.0</td>\n",
       "    </tr>\n",
       "    <tr>\n",
       "      <th>Nordeste</th>\n",
       "      <td>99.850</td>\n",
       "      <td>0.135</td>\n",
       "      <td>0.015</td>\n",
       "      <td>100.0</td>\n",
       "    </tr>\n",
       "    <tr>\n",
       "      <th>Sudeste</th>\n",
       "      <td>99.755</td>\n",
       "      <td>0.173</td>\n",
       "      <td>0.072</td>\n",
       "      <td>100.0</td>\n",
       "    </tr>\n",
       "    <tr>\n",
       "      <th>Sul</th>\n",
       "      <td>99.662</td>\n",
       "      <td>0.194</td>\n",
       "      <td>0.143</td>\n",
       "      <td>100.0</td>\n",
       "    </tr>\n",
       "    <tr>\n",
       "      <th>Centro_Oeste</th>\n",
       "      <td>99.357</td>\n",
       "      <td>0.389</td>\n",
       "      <td>0.254</td>\n",
       "      <td>100.0</td>\n",
       "    </tr>\n",
       "    <tr>\n",
       "      <th>All</th>\n",
       "      <td>99.713</td>\n",
       "      <td>0.203</td>\n",
       "      <td>0.084</td>\n",
       "      <td>100.0</td>\n",
       "    </tr>\n",
       "  </tbody>\n",
       "</table>\n",
       "</div>"
      ],
      "text/plain": [
       "Domicílio     Particular Permanente  Particular improvisado  Coletivo    All\n",
       "Região                                                                      \n",
       "Norte                        99.685                   0.267     0.048  100.0\n",
       "Nordeste                     99.850                   0.135     0.015  100.0\n",
       "Sudeste                      99.755                   0.173     0.072  100.0\n",
       "Sul                          99.662                   0.194     0.143  100.0\n",
       "Centro_Oeste                 99.357                   0.389     0.254  100.0\n",
       "All                          99.713                   0.203     0.084  100.0"
      ]
     },
     "execution_count": 83,
     "metadata": {},
     "output_type": "execute_result"
    }
   ],
   "source": [
    "#Tipo de domicílio x região - 2015\n",
    "print('Frequencia relativa de Tipo de Domicílio por Região - 2015')\n",
    "TDR15=pd.crosstab(df1.Regiao,p15.V0201,margins=True,rownames=['Região'], colnames=['Domicílio']).apply(percConvert, axis=1)\n",
    "TDR15"
   ]
  },
  {
   "cell_type": "code",
   "execution_count": 93,
   "metadata": {
    "collapsed": false
   },
   "outputs": [
    {
     "name": "stdout",
     "output_type": "stream",
     "text": [
      "Frequencia relativa de Tipo de Domicílio por Região - 2011\n"
     ]
    },
    {
     "data": {
      "text/html": [
       "<div>\n",
       "<table border=\"1\" class=\"dataframe\">\n",
       "  <thead>\n",
       "    <tr style=\"text-align: right;\">\n",
       "      <th>Domicílio</th>\n",
       "      <th>Particular Permanente</th>\n",
       "      <th>Particular improvisado</th>\n",
       "      <th>Coletivo</th>\n",
       "      <th>All</th>\n",
       "    </tr>\n",
       "    <tr>\n",
       "      <th>Região</th>\n",
       "      <th></th>\n",
       "      <th></th>\n",
       "      <th></th>\n",
       "      <th></th>\n",
       "    </tr>\n",
       "  </thead>\n",
       "  <tbody>\n",
       "    <tr>\n",
       "      <th>Norte</th>\n",
       "      <td>99.343</td>\n",
       "      <td>0.571</td>\n",
       "      <td>0.086</td>\n",
       "      <td>100.0</td>\n",
       "    </tr>\n",
       "    <tr>\n",
       "      <th>Nordeste</th>\n",
       "      <td>99.660</td>\n",
       "      <td>0.304</td>\n",
       "      <td>0.037</td>\n",
       "      <td>100.0</td>\n",
       "    </tr>\n",
       "    <tr>\n",
       "      <th>Sudeste</th>\n",
       "      <td>99.802</td>\n",
       "      <td>0.115</td>\n",
       "      <td>0.083</td>\n",
       "      <td>100.0</td>\n",
       "    </tr>\n",
       "    <tr>\n",
       "      <th>Sul</th>\n",
       "      <td>99.784</td>\n",
       "      <td>0.108</td>\n",
       "      <td>0.108</td>\n",
       "      <td>100.0</td>\n",
       "    </tr>\n",
       "    <tr>\n",
       "      <th>Centro_Oeste</th>\n",
       "      <td>99.459</td>\n",
       "      <td>0.472</td>\n",
       "      <td>0.069</td>\n",
       "      <td>100.0</td>\n",
       "    </tr>\n",
       "    <tr>\n",
       "      <th>All</th>\n",
       "      <td>99.664</td>\n",
       "      <td>0.263</td>\n",
       "      <td>0.073</td>\n",
       "      <td>100.0</td>\n",
       "    </tr>\n",
       "  </tbody>\n",
       "</table>\n",
       "</div>"
      ],
      "text/plain": [
       "Domicílio     Particular Permanente  Particular improvisado  Coletivo    All\n",
       "Região                                                                      \n",
       "Norte                        99.343                   0.571     0.086  100.0\n",
       "Nordeste                     99.660                   0.304     0.037  100.0\n",
       "Sudeste                      99.802                   0.115     0.083  100.0\n",
       "Sul                          99.784                   0.108     0.108  100.0\n",
       "Centro_Oeste                 99.459                   0.472     0.069  100.0\n",
       "All                          99.664                   0.263     0.073  100.0"
      ]
     },
     "execution_count": 93,
     "metadata": {},
     "output_type": "execute_result"
    }
   ],
   "source": [
    "#Tipo de domicílio x região - 2011\n",
    "print('Frequencia relativa de Tipo de Domicílio por Região - 2011')\n",
    "TDR11=pd.crosstab(df1.Regiao,p11.V0201,margins=True,rownames=['Região'], colnames=['Domicílio']).apply(percConvert, axis=1)\n",
    "TDR11"
   ]
  },
  {
   "cell_type": "markdown",
   "metadata": {},
   "source": [
    "No Norte e no Nordeste do país, a frequência relativa dos domicílios particulares permanentes aumentou quando comparamos 2011 com 2015. Já nas outras regiões, a frequência foi menor em 2015. Contudo, a frequência somada de todas as regiões foi maior em 2015."
   ]
  },
  {
   "cell_type": "markdown",
   "metadata": {},
   "source": [
    " "
   ]
  },
  {
   "cell_type": "code",
   "execution_count": 94,
   "metadata": {
    "collapsed": false
   },
   "outputs": [
    {
     "name": "stdout",
     "output_type": "stream",
     "text": [
      "Frequencia relativa de Tipo de Pessoas por domicílio por domicílio - 2015\n"
     ]
    },
    {
     "data": {
      "text/html": [
       "<div>\n",
       "<table border=\"1\" class=\"dataframe\">\n",
       "  <thead>\n",
       "    <tr style=\"text-align: right;\">\n",
       "      <th>Pessoas por domicílio</th>\n",
       "      <th>1~5</th>\n",
       "      <th>6~10</th>\n",
       "      <th>11~15</th>\n",
       "      <th>16~20</th>\n",
       "      <th>21~30</th>\n",
       "      <th>All</th>\n",
       "    </tr>\n",
       "    <tr>\n",
       "      <th>Domicílio</th>\n",
       "      <th></th>\n",
       "      <th></th>\n",
       "      <th></th>\n",
       "      <th></th>\n",
       "      <th></th>\n",
       "      <th></th>\n",
       "    </tr>\n",
       "  </thead>\n",
       "  <tbody>\n",
       "    <tr>\n",
       "      <th>Particular Permanente</th>\n",
       "      <td>94.297</td>\n",
       "      <td>5.591</td>\n",
       "      <td>0.105</td>\n",
       "      <td>0.001</td>\n",
       "      <td>0.007</td>\n",
       "      <td>100.0</td>\n",
       "    </tr>\n",
       "    <tr>\n",
       "      <th>Particular improvisado</th>\n",
       "      <td>94.142</td>\n",
       "      <td>5.858</td>\n",
       "      <td>0.000</td>\n",
       "      <td>0.000</td>\n",
       "      <td>0.000</td>\n",
       "      <td>100.0</td>\n",
       "    </tr>\n",
       "    <tr>\n",
       "      <th>Coletivo</th>\n",
       "      <td>96.970</td>\n",
       "      <td>3.030</td>\n",
       "      <td>0.000</td>\n",
       "      <td>0.000</td>\n",
       "      <td>0.000</td>\n",
       "      <td>100.0</td>\n",
       "    </tr>\n",
       "    <tr>\n",
       "      <th>All</th>\n",
       "      <td>94.299</td>\n",
       "      <td>5.589</td>\n",
       "      <td>0.104</td>\n",
       "      <td>0.001</td>\n",
       "      <td>0.007</td>\n",
       "      <td>100.0</td>\n",
       "    </tr>\n",
       "  </tbody>\n",
       "</table>\n",
       "</div>"
      ],
      "text/plain": [
       "Pessoas por domicílio      1~5   6~10  11~15  16~20  21~30    All\n",
       "Domicílio                                                        \n",
       "Particular Permanente   94.297  5.591  0.105  0.001  0.007  100.0\n",
       "Particular improvisado  94.142  5.858  0.000  0.000  0.000  100.0\n",
       "Coletivo                96.970  3.030  0.000  0.000  0.000  100.0\n",
       "All                     94.299  5.589  0.104  0.001  0.007  100.0"
      ]
     },
     "execution_count": 94,
     "metadata": {},
     "output_type": "execute_result"
    }
   ],
   "source": [
    "#2015 - Pessoas por Domicilio\n",
    "print('Frequencia relativa de Tipo de Pessoas por domicílio por domicílio - 2015')\n",
    "PPD15=pd.crosstab(p15.V0201,df2.Pessoas_por_Domicilio,margins=True,rownames=['Domicílio'], colnames=['Pessoas por domicílio']).apply(percConvert, axis=1)\n",
    "PPD15"
   ]
  },
  {
   "cell_type": "code",
   "execution_count": 92,
   "metadata": {
    "collapsed": false
   },
   "outputs": [
    {
     "name": "stdout",
     "output_type": "stream",
     "text": [
      "Frequencia relativa de Tipo de Pessoas por domicílio por domicílio - 2011\n"
     ]
    },
    {
     "data": {
      "text/html": [
       "<div>\n",
       "<table border=\"1\" class=\"dataframe\">\n",
       "  <thead>\n",
       "    <tr style=\"text-align: right;\">\n",
       "      <th>Pessoas por domicílio</th>\n",
       "      <th>1~5</th>\n",
       "      <th>6~10</th>\n",
       "      <th>11~15</th>\n",
       "      <th>16~20</th>\n",
       "      <th>21~30</th>\n",
       "      <th>All</th>\n",
       "    </tr>\n",
       "    <tr>\n",
       "      <th>Domicílio</th>\n",
       "      <th></th>\n",
       "      <th></th>\n",
       "      <th></th>\n",
       "      <th></th>\n",
       "      <th></th>\n",
       "      <th></th>\n",
       "    </tr>\n",
       "  </thead>\n",
       "  <tbody>\n",
       "    <tr>\n",
       "      <th>Particular Permanente</th>\n",
       "      <td>92.681</td>\n",
       "      <td>7.156</td>\n",
       "      <td>0.156</td>\n",
       "      <td>0.006</td>\n",
       "      <td>0.001</td>\n",
       "      <td>100.0</td>\n",
       "    </tr>\n",
       "    <tr>\n",
       "      <th>Particular improvisado</th>\n",
       "      <td>93.197</td>\n",
       "      <td>6.803</td>\n",
       "      <td>0.000</td>\n",
       "      <td>0.000</td>\n",
       "      <td>0.000</td>\n",
       "      <td>100.0</td>\n",
       "    </tr>\n",
       "    <tr>\n",
       "      <th>Coletivo</th>\n",
       "      <td>96.341</td>\n",
       "      <td>3.659</td>\n",
       "      <td>0.000</td>\n",
       "      <td>0.000</td>\n",
       "      <td>0.000</td>\n",
       "      <td>100.0</td>\n",
       "    </tr>\n",
       "    <tr>\n",
       "      <th>All</th>\n",
       "      <td>92.685</td>\n",
       "      <td>7.153</td>\n",
       "      <td>0.155</td>\n",
       "      <td>0.006</td>\n",
       "      <td>0.001</td>\n",
       "      <td>100.0</td>\n",
       "    </tr>\n",
       "  </tbody>\n",
       "</table>\n",
       "</div>"
      ],
      "text/plain": [
       "Pessoas por domicílio      1~5   6~10  11~15  16~20  21~30    All\n",
       "Domicílio                                                        \n",
       "Particular Permanente   92.681  7.156  0.156  0.006  0.001  100.0\n",
       "Particular improvisado  93.197  6.803  0.000  0.000  0.000  100.0\n",
       "Coletivo                96.341  3.659  0.000  0.000  0.000  100.0\n",
       "All                     92.685  7.153  0.155  0.006  0.001  100.0"
      ]
     },
     "execution_count": 92,
     "metadata": {},
     "output_type": "execute_result"
    }
   ],
   "source": [
    "#2011 - Pessoas por Domicilio\n",
    "print('Frequencia relativa de Tipo de Pessoas por domicílio por domicílio - 2011')\n",
    "PPD11=pd.crosstab(p11.V0201,df2a.Pessoas_por_Domicilio_11,margins=True,rownames=['Domicílio'], colnames=['Pessoas por domicílio']).apply(percConvert, axis=1)\n",
    "PPD11"
   ]
  },
  {
   "cell_type": "markdown",
   "metadata": {},
   "source": [
    "Em geral, o perfil dos domicílios permaneceu o mesmo, contudo, é importante destacar a diminuição no número de habitantes de domicilios particulares permanentes quando comparamos 2011 a 2015. Um dos possíveis motivos para tal diminuição foi a prosperidade econômica que o Brasil viveu a partir do ano de 2011, que culminou em 2013, encorajando muitos a deixarem de viver com seus pais e familiares e comprarem suas proprias casas."
   ]
  },
  {
   "cell_type": "code",
   "execution_count": 96,
   "metadata": {
    "collapsed": false
   },
   "outputs": [
    {
     "name": "stdout",
     "output_type": "stream",
     "text": [
      "Frequencia relativa de Tipo de Pessoas por domicílio por Região - 2011\n"
     ]
    },
    {
     "data": {
      "text/html": [
       "<div>\n",
       "<table border=\"1\" class=\"dataframe\">\n",
       "  <thead>\n",
       "    <tr style=\"text-align: right;\">\n",
       "      <th>Pessoas por domicílio</th>\n",
       "      <th>1~5</th>\n",
       "      <th>6~10</th>\n",
       "      <th>11~15</th>\n",
       "      <th>16~20</th>\n",
       "      <th>21~30</th>\n",
       "      <th>All</th>\n",
       "    </tr>\n",
       "    <tr>\n",
       "      <th>Região</th>\n",
       "      <th></th>\n",
       "      <th></th>\n",
       "      <th></th>\n",
       "      <th></th>\n",
       "      <th></th>\n",
       "      <th></th>\n",
       "    </tr>\n",
       "  </thead>\n",
       "  <tbody>\n",
       "    <tr>\n",
       "      <th>Norte</th>\n",
       "      <td>89.321</td>\n",
       "      <td>10.334</td>\n",
       "      <td>0.309</td>\n",
       "      <td>0.000</td>\n",
       "      <td>0.036</td>\n",
       "      <td>100.0</td>\n",
       "    </tr>\n",
       "    <tr>\n",
       "      <th>Nordeste</th>\n",
       "      <td>93.115</td>\n",
       "      <td>6.750</td>\n",
       "      <td>0.129</td>\n",
       "      <td>0.003</td>\n",
       "      <td>0.003</td>\n",
       "      <td>100.0</td>\n",
       "    </tr>\n",
       "    <tr>\n",
       "      <th>Sudeste</th>\n",
       "      <td>95.907</td>\n",
       "      <td>4.038</td>\n",
       "      <td>0.052</td>\n",
       "      <td>0.000</td>\n",
       "      <td>0.003</td>\n",
       "      <td>100.0</td>\n",
       "    </tr>\n",
       "    <tr>\n",
       "      <th>Sul</th>\n",
       "      <td>96.773</td>\n",
       "      <td>3.197</td>\n",
       "      <td>0.031</td>\n",
       "      <td>0.000</td>\n",
       "      <td>0.000</td>\n",
       "      <td>100.0</td>\n",
       "    </tr>\n",
       "    <tr>\n",
       "      <th>Centro_Oeste</th>\n",
       "      <td>95.540</td>\n",
       "      <td>4.429</td>\n",
       "      <td>0.032</td>\n",
       "      <td>0.000</td>\n",
       "      <td>0.000</td>\n",
       "      <td>100.0</td>\n",
       "    </tr>\n",
       "    <tr>\n",
       "      <th>All</th>\n",
       "      <td>94.299</td>\n",
       "      <td>5.589</td>\n",
       "      <td>0.104</td>\n",
       "      <td>0.001</td>\n",
       "      <td>0.007</td>\n",
       "      <td>100.0</td>\n",
       "    </tr>\n",
       "  </tbody>\n",
       "</table>\n",
       "</div>"
      ],
      "text/plain": [
       "Pessoas por domicílio     1~5    6~10  11~15  16~20  21~30    All\n",
       "Região                                                           \n",
       "Norte                  89.321  10.334  0.309  0.000  0.036  100.0\n",
       "Nordeste               93.115   6.750  0.129  0.003  0.003  100.0\n",
       "Sudeste                95.907   4.038  0.052  0.000  0.003  100.0\n",
       "Sul                    96.773   3.197  0.031  0.000  0.000  100.0\n",
       "Centro_Oeste           95.540   4.429  0.032  0.000  0.000  100.0\n",
       "All                    94.299   5.589  0.104  0.001  0.007  100.0"
      ]
     },
     "execution_count": 96,
     "metadata": {},
     "output_type": "execute_result"
    }
   ],
   "source": [
    "#2015 - Pessoas por Domicilio por Região\n",
    "print('Frequencia relativa de Tipo de Pessoas por domicílio por Região - 2011')\n",
    "PPDR15=pd.crosstab(df1.Regiao, df2.Pessoas_por_Domicilio,margins=True,rownames=['Região'], colnames=['Pessoas por domicílio']).apply(percConvert, axis=1)\n",
    "PPDR15"
   ]
  },
  {
   "cell_type": "code",
   "execution_count": 97,
   "metadata": {
    "collapsed": false
   },
   "outputs": [
    {
     "name": "stdout",
     "output_type": "stream",
     "text": [
      "Frequencia relativa de Tipo de Pessoas por domicílio por Região - 2011\n"
     ]
    },
    {
     "data": {
      "text/html": [
       "<div>\n",
       "<table border=\"1\" class=\"dataframe\">\n",
       "  <thead>\n",
       "    <tr style=\"text-align: right;\">\n",
       "      <th>Pessoas por domicílio</th>\n",
       "      <th>1~5</th>\n",
       "      <th>6~10</th>\n",
       "      <th>11~15</th>\n",
       "      <th>16~20</th>\n",
       "      <th>21~30</th>\n",
       "      <th>All</th>\n",
       "    </tr>\n",
       "    <tr>\n",
       "      <th>Região</th>\n",
       "      <th></th>\n",
       "      <th></th>\n",
       "      <th></th>\n",
       "      <th></th>\n",
       "      <th></th>\n",
       "      <th></th>\n",
       "    </tr>\n",
       "  </thead>\n",
       "  <tbody>\n",
       "    <tr>\n",
       "      <th>Norte</th>\n",
       "      <td>86.289</td>\n",
       "      <td>13.226</td>\n",
       "      <td>0.454</td>\n",
       "      <td>0.031</td>\n",
       "      <td>0.000</td>\n",
       "      <td>100.0</td>\n",
       "    </tr>\n",
       "    <tr>\n",
       "      <th>Nordeste</th>\n",
       "      <td>91.401</td>\n",
       "      <td>8.400</td>\n",
       "      <td>0.193</td>\n",
       "      <td>0.003</td>\n",
       "      <td>0.003</td>\n",
       "      <td>100.0</td>\n",
       "    </tr>\n",
       "    <tr>\n",
       "      <th>Sudeste</th>\n",
       "      <td>94.781</td>\n",
       "      <td>5.153</td>\n",
       "      <td>0.063</td>\n",
       "      <td>0.003</td>\n",
       "      <td>0.000</td>\n",
       "      <td>100.0</td>\n",
       "    </tr>\n",
       "    <tr>\n",
       "      <th>Sul</th>\n",
       "      <td>95.525</td>\n",
       "      <td>4.419</td>\n",
       "      <td>0.057</td>\n",
       "      <td>0.000</td>\n",
       "      <td>0.000</td>\n",
       "      <td>100.0</td>\n",
       "    </tr>\n",
       "    <tr>\n",
       "      <th>Centro_Oeste</th>\n",
       "      <td>94.708</td>\n",
       "      <td>5.246</td>\n",
       "      <td>0.046</td>\n",
       "      <td>0.000</td>\n",
       "      <td>0.000</td>\n",
       "      <td>100.0</td>\n",
       "    </tr>\n",
       "    <tr>\n",
       "      <th>All</th>\n",
       "      <td>92.685</td>\n",
       "      <td>7.153</td>\n",
       "      <td>0.155</td>\n",
       "      <td>0.006</td>\n",
       "      <td>0.001</td>\n",
       "      <td>100.0</td>\n",
       "    </tr>\n",
       "  </tbody>\n",
       "</table>\n",
       "</div>"
      ],
      "text/plain": [
       "Pessoas por domicílio     1~5    6~10  11~15  16~20  21~30    All\n",
       "Região                                                           \n",
       "Norte                  86.289  13.226  0.454  0.031  0.000  100.0\n",
       "Nordeste               91.401   8.400  0.193  0.003  0.003  100.0\n",
       "Sudeste                94.781   5.153  0.063  0.003  0.000  100.0\n",
       "Sul                    95.525   4.419  0.057  0.000  0.000  100.0\n",
       "Centro_Oeste           94.708   5.246  0.046  0.000  0.000  100.0\n",
       "All                    92.685   7.153  0.155  0.006  0.001  100.0"
      ]
     },
     "execution_count": 97,
     "metadata": {},
     "output_type": "execute_result"
    }
   ],
   "source": [
    "#2011 - Pessoas por Domicilio\n",
    "print('Frequencia relativa de Tipo de Pessoas por domicílio por Região - 2011')\n",
    "PPDR11=pd.crosstab(df1.Regiao, df2a.Pessoas_por_Domicilio_11,margins=True,rownames=['Região'], colnames=['Pessoas por domicílio']).apply(percConvert, axis=1)\n",
    "PPDR11"
   ]
  },
  {
   "cell_type": "markdown",
   "metadata": {},
   "source": [
    "Em todas as regiões, a quantidade de pessoas por domicílio tornou-se menor, em média, quando comparamos os anos de 2011 a 2015."
   ]
  },
  {
   "cell_type": "markdown",
   "metadata": {},
   "source": [
    " "
   ]
  },
  {
   "cell_type": "markdown",
   "metadata": {},
   "source": [
    " "
   ]
  },
  {
   "cell_type": "markdown",
   "metadata": {},
   "source": [
    " "
   ]
  },
  {
   "cell_type": "markdown",
   "metadata": {},
   "source": [
    "# Fazer análises"
   ]
  },
  {
   "cell_type": "markdown",
   "metadata": {},
   "source": [
    " "
   ]
  },
  {
   "cell_type": "markdown",
   "metadata": {},
   "source": [
    " "
   ]
  },
  {
   "cell_type": "code",
   "execution_count": 236,
   "metadata": {
    "collapsed": false
   },
   "outputs": [
    {
     "name": "stdout",
     "output_type": "stream",
     "text": [
      "                  SM\n",
      "count  115624.000000\n",
      "mean        1.583560\n",
      "std         2.388568\n",
      "min         0.000000\n",
      "25%         0.527919\n",
      "50%         1.000000\n",
      "75%         1.691624\n",
      "max        90.946701\n"
     ]
    },
    {
     "data": {
      "text/plain": [
       "<matplotlib.axes._subplots.AxesSubplot at 0x291c6028390>"
      ]
     },
     "execution_count": 236,
     "metadata": {},
     "output_type": "execute_result"
    },
    {
     "data": {
      "image/png": "[encoded data removed]",
      "text/plain": [
       "<matplotlib.figure.Figure at 0x291c87e69b0>"
      ]
     },
     "metadata": {},
     "output_type": "display_data"
    }
   ],
   "source": [
    "#2015\n",
    "print(df3.describe())\n",
    "SM15B = df3\n",
    "SM15B.plot(kind='hist', title= \"Salários Mínimos - 2015\", grid=True, bins = 100, xlim=[0,10], normed=1)"
   ]
  },
  {
   "cell_type": "code",
   "execution_count": 237,
   "metadata": {
    "collapsed": false
   },
   "outputs": [
    {
     "name": "stdout",
     "output_type": "stream",
     "text": [
      "               SM_11\n",
      "count  106449.000000\n",
      "mean        1.652384\n",
      "std         2.832359\n",
      "min         0.000000\n",
      "25%         0.515596\n",
      "50%         1.000000\n",
      "75%         1.743119\n",
      "max       229.357798\n"
     ]
    },
    {
     "data": {
      "text/plain": [
       "<matplotlib.axes._subplots.AxesSubplot at 0x291bd36a0b8>"
      ]
     },
     "execution_count": 237,
     "metadata": {},
     "output_type": "execute_result"
    },
    {
     "data": {
      "image/png": "[encoded data removed]",
      "text/plain": [
       "<matplotlib.figure.Figure at 0x291be53bc18>"
      ]
     },
     "metadata": {},
     "output_type": "display_data"
    }
   ],
   "source": [
    "#2011\n",
    "print(df3a.describe())\n",
    "SM11B = df3a\n",
    "SM11B.plot(kind='hist', title= \"Salários Mínimos - 2011\", grid=True, bins = 250, xlim=[0,10], normed=1)"
   ]
  },
  {
   "cell_type": "markdown",
   "metadata": {},
   "source": [
    "Fazer análise."
   ]
  },
  {
   "cell_type": "markdown",
   "metadata": {},
   "source": [
    " "
   ]
  },
  {
   "cell_type": "markdown",
   "metadata": {},
   "source": [
    "  "
   ]
  },
  {
   "cell_type": "code",
   "execution_count": 250,
   "metadata": {
    "collapsed": false
   },
   "outputs": [
    {
     "name": "stdout",
     "output_type": "stream",
     "text": [
      "       Comodos_por_domicílio\n",
      "count          117601.000000\n",
      "mean                5.773692\n",
      "std                 1.999496\n",
      "min                 1.000000\n",
      "25%                 5.000000\n",
      "50%                 5.000000\n",
      "75%                 7.000000\n",
      "max                28.000000\n"
     ]
    },
    {
     "data": {
      "image/png": "[encoded data removed]",
      "text/plain": [
       "<matplotlib.figure.Figure at 0x291e0bf4908>"
      ]
     },
     "metadata": {},
     "output_type": "display_data"
    }
   ],
   "source": [
    "#2015\n",
    "df5 = df5.dropna()\n",
    "df5.plot(kind='box', title= \"Cômodos por domicilio - 2015\", grid=True, ylim=[0,15])\n",
    "print(df5.describe())"
   ]
  },
  {
   "cell_type": "code",
   "execution_count": 251,
   "metadata": {
    "collapsed": false
   },
   "outputs": [
    {
     "name": "stdout",
     "output_type": "stream",
     "text": [
      "       Comodos_por_domicílio_11\n",
      "count             111610.000000\n",
      "mean                   5.712678\n",
      "std                    2.067074\n",
      "min                    1.000000\n",
      "25%                    5.000000\n",
      "50%                    5.000000\n",
      "75%                    7.000000\n",
      "max                   28.000000\n"
     ]
    },
    {
     "data": {
      "image/png": "[encoded data removed]",
      "text/plain": [
       "<matplotlib.figure.Figure at 0x291e1189c18>"
      ]
     },
     "metadata": {},
     "output_type": "display_data"
    }
   ],
   "source": [
    "#2011\n",
    "df5a = df5a.dropna()\n",
    "df5a.plot(kind='box', title= \"Cômodos por domicilio - 2011\", grid=True, ylim=[0,15])\n",
    "print(df5a.describe())"
   ]
  },
  {
   "cell_type": "markdown",
   "metadata": {},
   "source": [
    "Fazer análise."
   ]
  },
  {
   "cell_type": "markdown",
   "metadata": {},
   "source": [
    " "
   ]
  },
  {
   "cell_type": "markdown",
   "metadata": {},
   "source": [
    " "
   ]
  },
  {
   "cell_type": "code",
   "execution_count": 271,
   "metadata": {
    "collapsed": false
   },
   "outputs": [
    {
     "data": {
      "text/plain": [
       "(0, 100)"
      ]
     },
     "execution_count": 271,
     "metadata": {},
     "output_type": "execute_result"
    },
    {
     "data": {
      "image/png": "[encoded data removed]",
      "text/plain": [
       "<matplotlib.figure.Figure at 0x291dc2ad550>"
      ]
     },
     "metadata": {},
     "output_type": "display_data"
    }
   ],
   "source": [
    "#\n",
    "crosstrab=pd.crosstab(df4.Situação_Sensitária, p15.V0226,margins=True,rownames=['Situação Sensitária'], colnames=['Televisão']).apply(percConvert, axis=0)\n",
    "plot = crosstrab.T.plot(kind='bar', stacked=True,title='Televisões por Área de moradia', legend=True)\n",
    "plot.set_ylim([0, 100])"
   ]
  },
  {
   "cell_type": "code",
   "execution_count": 272,
   "metadata": {
    "collapsed": false
   },
   "outputs": [
    {
     "data": {
      "text/plain": [
       "(0, 100)"
      ]
     },
     "execution_count": 272,
     "metadata": {},
     "output_type": "execute_result"
    },
    {
     "data": {
      "image/png": "[encoded data removed]",
      "text/plain": [
       "<matplotlib.figure.Figure at 0x291dc7e5160>"
      ]
     },
     "metadata": {},
     "output_type": "display_data"
    }
   ],
   "source": [
    "crosstrab1=pd.crosstab(df4a.Situação_Sensitária_11, p11.V0226,margins=True,rownames=['Situação Sensitária'], colnames=['Televisão']).apply(percConvert, axis=0)\n",
    "plot = crosstrab1.T.plot(kind='bar', stacked=True,title='Televisões por Área de moradia', legend=True)\n",
    "plot.set_ylim([0, 100])"
   ]
  },
  {
   "cell_type": "markdown",
   "metadata": {},
   "source": [
    "Fazer análise."
   ]
  },
  {
   "cell_type": "markdown",
   "metadata": {},
   "source": [
    " "
   ]
  },
  {
   "cell_type": "markdown",
   "metadata": {},
   "source": [
    " "
   ]
  },
  {
   "cell_type": "markdown",
   "metadata": {},
   "source": [
    " "
   ]
  },
  {
   "cell_type": "markdown",
   "metadata": {},
   "source": [
    " "
   ]
  },
  {
   "cell_type": "markdown",
   "metadata": {},
   "source": [
    " "
   ]
  },
  {
   "cell_type": "markdown",
   "metadata": {},
   "source": [
    "# Conclusão"
   ]
  },
  {
   "cell_type": "markdown",
   "metadata": {
    "collapsed": true
   },
   "source": [
    "Fazer conclusão."
   ]
  },
  {
   "cell_type": "code",
   "execution_count": null,
   "metadata": {
    "collapsed": true
   },
   "outputs": [],
   "source": []
  }
 ],
 "metadata": {
  "anaconda-cloud": {},
  "kernelspec": {
   "display_name": "Python 3",
   "language": "python",
   "name": "python3"
  },
  "language_info": {
   "codemirror_mode": {
    "name": "ipython",
    "version": 3
   },
   "file_extension": ".py",
   "mimetype": "text/x-python",
   "name": "python",
   "nbconvert_exporter": "python",
   "pygments_lexer": "ipython3",
   "version": "3.5.2"
  }
 },
 "nbformat": 4,
 "nbformat_minor": 0
}
