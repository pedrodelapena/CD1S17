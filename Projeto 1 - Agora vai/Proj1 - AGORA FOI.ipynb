{
 "cells": [
  {
   "cell_type": "markdown",
   "metadata": {},
   "source": [
    "___\n",
    "# PROJETO 1"
   ]
  },
  {
   "cell_type": "markdown",
   "metadata": {},
   "source": [
    "## <font color='red'>Pedro de la Peña</font>\n",
    "___"
   ]
  },
  {
   "cell_type": "markdown",
   "metadata": {},
   "source": [
    "## Como épocas de prosperidade econômica influenciam na qualidade de vida da população"
   ]
  },
  {
   "cell_type": "markdown",
   "metadata": {},
   "source": [
    "## Introdução\n",
    "\n",
    "Foram escolhidos dois anos distintos para serem analisados no Brasil: os anos de  <strong> 2011 e 2015</strong> para analizar e comparar suas condições de vida e de trabalho.\n",
    "\n",
    "Em 2011, o Brasil vivia uma época de crescimento econômico, que culminou em 2013 com a \"ascensão da classe C\". O crescimento durou até 2014, quando a economia estagnou e começou a entrar em declínio. O ano de 2015 foi muito conturbado e o dólar chegou a atingir a marca de 4 para um com o Real, fazendo com que os salários fossem reduzidos. Mesmo assim, a população conseguiu manter grande parte de seus bens, como carros e apartamentos, até meados de 2016, quando muitos foram forçados a abrir mão deles.\n",
    "\n",
    "Em meu projeto, irei analisar como uma época de crescimento econômico afetou a população brasileira. O ano de 2011 marca o início de uma época de prosperidade, enquanto 2015 marca o início de uma crise."
   ]
  },
  {
   "cell_type": "markdown",
   "metadata": {},
   "source": [
    "Historico econômico no Brasil\n",
    "\n",
    "2011 - https://economia.uol.com.br/noticias/redacao/2012/03/06/economia-brasileira-cresce-27-em-2011-e-fica-abaixo-da-meta-do-governo.htm\n",
    "\n",
    "2012 - https://economia.uol.com.br/noticias/redacao/2013/03/01/pib-2012.htm\n",
    "\n",
    "2013 - http://g1.globo.com/economia/noticia/2014/02/economia-brasileira-avancou-23-em-2013-diz-ibge.html\n",
    "\n",
    "2014 - https://economia.uol.com.br/noticias/redacao/2015/03/27/pib-2014.htm\n",
    "\n",
    "2015 - http://www1.folha.uol.com.br/mercado/2015/12/1724604-a-tragedia-da-economia-brasileira-em-2015-em-7-graficos.shtml"
   ]
  },
  {
   "cell_type": "markdown",
   "metadata": {},
   "source": [
    "___\n",
    "## Análise e Resultados"
   ]
  },
  {
   "cell_type": "code",
   "execution_count": 1,
   "metadata": {
    "collapsed": true
   },
   "outputs": [],
   "source": [
    "%matplotlib inline\n",
    "import pandas as pd\n",
    "import matplotlib.pyplot as plt\n",
    "import numpy as np\n",
    "import os"
   ]
  },
  {
   "cell_type": "code",
   "execution_count": 2,
   "metadata": {
    "collapsed": false
   },
   "outputs": [
    {
     "name": "stdout",
     "output_type": "stream",
     "text": [
      "Esperamos trabalhar no diretório\n",
      "C:\\Users\\pedro\\Desktop\\Projeto 1 - Agora vai\n"
     ]
    }
   ],
   "source": [
    "print('Esperamos trabalhar no diretório')\n",
    "print(os.getcwd())"
   ]
  },
  {
   "cell_type": "markdown",
   "metadata": {},
   "source": [
    "# PNAD 2015"
   ]
  },
  {
   "cell_type": "code",
   "execution_count": 3,
   "metadata": {
    "collapsed": false
   },
   "outputs": [],
   "source": [
    "#Pnad 2015\n",
    "p15 = pd.read_csv('DOM2015csv.zip', sep=',')"
   ]
  },
  {
   "cell_type": "code",
   "execution_count": 4,
   "metadata": {
    "collapsed": false
   },
   "outputs": [
    {
     "data": {
      "text/plain": [
       "(151189, 81)"
      ]
     },
     "execution_count": 4,
     "metadata": {},
     "output_type": "execute_result"
    }
   ],
   "source": [
    "p15.shape"
   ]
  },
  {
   "cell_type": "code",
   "execution_count": 5,
   "metadata": {
    "collapsed": true
   },
   "outputs": [],
   "source": [
    "n = p15.shape[0]"
   ]
  },
  {
   "cell_type": "markdown",
   "metadata": {},
   "source": [
    "# Qualitativas: V0201, V0220,  V0231"
   ]
  },
  {
   "cell_type": "code",
   "execution_count": 6,
   "metadata": {
    "collapsed": false
   },
   "outputs": [],
   "source": [
    "#Especie do domicilio\n",
    "p15['V0201'] = p15['V0201'].astype('category')\n",
    "p15.V0201.cat.categories = ('Particular Permanente','Particular improvisado', 'Coletivo')\n",
    "\n",
    "#Telefone Celular\n",
    "p15['V0220'] = p15['V0220'].astype('category')\n",
    "p15.V0220.cat.categories = ('Sim', 'Não')\n",
    "\n",
    "#Tem computador\n",
    "p15['V0231'] = p15['V0231'].astype('category')\n",
    "p15.V0231.cat.categories = ('Sim', 'Não')"
   ]
  },
  {
   "cell_type": "markdown",
   "metadata": {},
   "source": [
    "# Quantitativas: UF, V4620, V4621, V4105, V0205, V2032"
   ]
  },
  {
   "cell_type": "code",
   "execution_count": 7,
   "metadata": {
    "collapsed": false
   },
   "outputs": [],
   "source": [
    "#Separação por regiões\n",
    "df1 = pd.DataFrame()\n",
    "df1['Regiao']= p15.UF\n",
    "\n",
    "df1.Regiao[(p15.UF>=10) & (p15.UF<20)]=1\n",
    "df1.Regiao[(p15.UF>=20) & (p15.UF<30)]=2\n",
    "df1.Regiao[(p15.UF>=30) & (p15.UF<40)]=3\n",
    "df1.Regiao[(p15.UF>=40) & (p15.UF<50)]=4\n",
    "df1.Regiao[(p15.UF>=50) & (p15.UF<60)]=5\n",
    "\n",
    "df1['Regiao'] = df1['Regiao'].astype('category')\n",
    "df1.Regiao.cat.categories = ('Norte', 'Nordeste', 'Sudeste', 'Sul', 'Centro_Oeste')"
   ]
  },
  {
   "cell_type": "code",
   "execution_count": 8,
   "metadata": {
    "collapsed": false
   },
   "outputs": [],
   "source": [
    "#Componentes por domicilio\n",
    "df2 = pd.DataFrame()\n",
    "df2['Pessoas_por_Domicilio'] = p15.V4620\n",
    "df2.Pessoas_por_Domicilio.value_counts()\n",
    "\n",
    "df2.Pessoas_por_Domicilio[(p15.V4620>0) & (p15.V4620<6)] = 1\n",
    "df2.Pessoas_por_Domicilio[(p15.V4620>=6) & (p15.V4620<11)]  = 2\n",
    "df2.Pessoas_por_Domicilio[(p15.V4620>=11) & (p15.V4620<16)] = 3\n",
    "df2.Pessoas_por_Domicilio[(p15.V4620>16) & (p15.V4620<21)] = 4\n",
    "df2.Pessoas_por_Domicilio[(p15.V4620>=21)] = 5\n",
    "\n",
    "df2['Pessoas_por_Domicilio'] = df2['Pessoas_por_Domicilio'].astype('category')\n",
    "df2.Pessoas_por_Domicilio.cat.categories = ('1~5', '6~10', '11~15', '16~20', '21~30')"
   ]
  },
  {
   "cell_type": "code",
   "execution_count": 9,
   "metadata": {
    "collapsed": false
   },
   "outputs": [],
   "source": [
    "#Renda domiciliar mensal em salarios minimos 2015\n",
    "df3 = pd.DataFrame()\n",
    "df3['SM'] = p15.V4621/788\n",
    "df3 = df3[df3.SM <100]"
   ]
  },
  {
   "cell_type": "code",
   "execution_count": 10,
   "metadata": {
    "collapsed": true
   },
   "outputs": [],
   "source": [
    "#Situação censitária\n",
    "df4 = pd.DataFrame()\n",
    "df4['Situação_Sensitária'] = p15.V4105\n",
    "\n",
    "df4.Situação_Sensitária[(p15.V4105>=1) & (p15.V4105<4)] = 1\n",
    "df4.Situação_Sensitária[(p15.V4105>=4) & (p15.V4105<9)] = 2\n",
    "\n",
    "df4['Situação_Sensitária'] = df4['Situação_Sensitária'].astype('category')\n",
    "df4.Situação_Sensitária.cat.categories = ('Urbana', 'Rural')"
   ]
  },
  {
   "cell_type": "code",
   "execution_count": 11,
   "metadata": {
    "collapsed": false
   },
   "outputs": [],
   "source": [
    "df5 = pd.DataFrame()\n",
    "df5['Comodos_por_domicílio'] = p15.V0205"
   ]
  },
  {
   "cell_type": "code",
   "execution_count": 12,
   "metadata": {
    "collapsed": false
   },
   "outputs": [],
   "source": [
    "#Possui Carro e/ou Motorcicleta\n",
    "df6 = pd.DataFrame()\n",
    "df6['CEOM'] = p15.V2032\n",
    "\n",
    "df6.CEOM[(p15.V2032>=2) & (p15.V2032<8)] = 1\n",
    "df6.CEOM[(p15.V2032 ==8)] = 2\n",
    "\n",
    "df6['CEOM'] = df6['CEOM'].astype('category')\n",
    "df6.CEOM.cat.categories = ('Sim', 'Não')"
   ]
  },
  {
   "cell_type": "markdown",
   "metadata": {},
   "source": [
    "# PNAD 2011"
   ]
  },
  {
   "cell_type": "code",
   "execution_count": 13,
   "metadata": {
    "collapsed": true
   },
   "outputs": [],
   "source": [
    "p11 = pd.read_csv('DOM2011csv.zip', sep=',')"
   ]
  },
  {
   "cell_type": "code",
   "execution_count": 14,
   "metadata": {
    "collapsed": false
   },
   "outputs": [
    {
     "data": {
      "text/plain": [
       "(146207, 66)"
      ]
     },
     "execution_count": 14,
     "metadata": {},
     "output_type": "execute_result"
    }
   ],
   "source": [
    "p11.shape"
   ]
  },
  {
   "cell_type": "code",
   "execution_count": 15,
   "metadata": {
    "collapsed": true
   },
   "outputs": [],
   "source": [
    "m = p11.shape[0]"
   ]
  },
  {
   "cell_type": "markdown",
   "metadata": {},
   "source": [
    "# Qualitativas: V0201, V0220, V0232"
   ]
  },
  {
   "cell_type": "code",
   "execution_count": 16,
   "metadata": {
    "collapsed": true
   },
   "outputs": [],
   "source": [
    "#Especie do domicilio\n",
    "p11['V0201'] = p11['V0201'].astype('category')\n",
    "p11.V0201.cat.categories = ('Particular Permanente','Particular improvisado', 'Coletivo')\n",
    "\n",
    "#Telefone Celular\n",
    "p11['V0220'] = p11['V0220'].astype('category')\n",
    "p11.V0220.cat.categories = ('Sim', 'Não')\n",
    "\n",
    "#Tem computador\n",
    "p11['V0231'] = p11['V0231'].astype('category')\n",
    "p11.V0231.cat.categories = ('Sim', 'Não')"
   ]
  },
  {
   "cell_type": "markdown",
   "metadata": {},
   "source": [
    "# Quantitativas: V4620, V4621, V4105, V0205, V2032"
   ]
  },
  {
   "cell_type": "code",
   "execution_count": 17,
   "metadata": {
    "collapsed": false
   },
   "outputs": [],
   "source": [
    "#Componentes por domicilio - 2011\n",
    "df2a = pd.DataFrame()\n",
    "df2a['Pessoas_por_Domicilio_11'] = p11.V4620\n",
    "\n",
    "df2a.Pessoas_por_Domicilio_11[(p11.V4620>=1) & (p11.V4620<6)] = 1\n",
    "df2a.Pessoas_por_Domicilio_11[(p11.V4620>=6) & (p11.V4620<11)]  = 2\n",
    "df2a.Pessoas_por_Domicilio_11[(p11.V4620>=11) & (p11.V4620<16)] = 3\n",
    "df2a.Pessoas_por_Domicilio_11[(p11.V4620>=16) & (p11.V4620<21)] = 4\n",
    "df2a.Pessoas_por_Domicilio_11[(p11.V4620>=21)] = 5\n",
    "\n",
    "\n",
    "df2a['Pessoas_por_Domicilio_11'] = df2a['Pessoas_por_Domicilio_11'].astype('category')\n",
    "df2a.Pessoas_por_Domicilio_11.cat.categories = ('1~5', '6~10', '11~15', '16~20', '21~30')"
   ]
  },
  {
   "cell_type": "code",
   "execution_count": 18,
   "metadata": {
    "collapsed": false
   },
   "outputs": [],
   "source": [
    "#Renda domiciliar mensal\n",
    "df3a = pd.DataFrame()\n",
    "df3a['SM_11'] = p11.V4621/545\n",
    "df3a = df3a[df3a.SM_11 <1000]"
   ]
  },
  {
   "cell_type": "code",
   "execution_count": 19,
   "metadata": {
    "collapsed": false
   },
   "outputs": [],
   "source": [
    "#Situação censitária - 2011\n",
    "df4a = pd.DataFrame()\n",
    "df4a['Situação_Sensitária_11'] = p11.V4105\n",
    "\n",
    "df4a.Situação_Sensitária_11[(p11.V4105>=1) & (p11.V4105<4)] = 1\n",
    "df4a.Situação_Sensitária_11[(p11.V4105>=4) & (p11.V4105<9)] = 2\n",
    "\n",
    "df4a['Situação_Sensitária_11'] = df4a['Situação_Sensitária_11'].astype('category')\n",
    "df4a.Situação_Sensitária_11.cat.categories = ('Urbana', 'Rural')"
   ]
  },
  {
   "cell_type": "code",
   "execution_count": 20,
   "metadata": {
    "collapsed": false
   },
   "outputs": [],
   "source": [
    "#Comodos por domicílio\n",
    "df5a = pd.DataFrame()\n",
    "df5a['Comodos_por_domicílio_11'] = p11.V0205"
   ]
  },
  {
   "cell_type": "code",
   "execution_count": 21,
   "metadata": {
    "collapsed": true
   },
   "outputs": [],
   "source": [
    "#Possui Carro e/ou Motorcicleta\n",
    "df6a = pd.DataFrame()\n",
    "df6a['CEOM_11'] = p11.V2032\n",
    "\n",
    "df6a.CEOM_11[(p11.V2032>=2) & (p11.V2032<8)] = 1\n",
    "df6a.CEOM_11[(p11.V2032 ==8)] = 2\n",
    "\n",
    "df6a['CEOM_11'] = df6a['CEOM_11'].astype('category')\n",
    "df6a.CEOM_11.cat.categories = ('Sim', 'Não')"
   ]
  },
  {
   "cell_type": "markdown",
   "metadata": {},
   "source": [
    "#  "
   ]
  },
  {
   "cell_type": "markdown",
   "metadata": {},
   "source": [
    "#  "
   ]
  },
  {
   "cell_type": "markdown",
   "metadata": {},
   "source": [
    "# Gráficos, tabelas, resultados e comparações das PNADs"
   ]
  },
  {
   "cell_type": "markdown",
   "metadata": {},
   "source": [
    "# OS GRÁFICOS AINDA ESTÃO FORA DE ORDEM E AS ANÁLISES ESTÃO INCOMPLETAS ATÉ AGORA"
   ]
  },
  {
   "cell_type": "markdown",
   "metadata": {},
   "source": [
    "## Obs: As análises dos dados obtidos encontram-se logo após os referidos (ou não ainda)"
   ]
  },
  {
   "cell_type": "markdown",
   "metadata": {},
   "source": [
    " "
   ]
  },
  {
   "cell_type": "markdown",
   "metadata": {},
   "source": [
    " "
   ]
  },
  {
   "cell_type": "code",
   "execution_count": 22,
   "metadata": {
    "collapsed": false
   },
   "outputs": [
    {
     "name": "stdout",
     "output_type": "stream",
     "text": [
      "                  SM\n",
      "count  115624.000000\n",
      "mean        1.583560\n",
      "std         2.388568\n",
      "min         0.000000\n",
      "25%         0.527919\n",
      "50%         1.000000\n",
      "75%         1.691624\n",
      "max        90.946701\n"
     ]
    },
    {
     "data": {
      "text/plain": [
       "<matplotlib.axes._subplots.AxesSubplot at 0x21c175005f8>"
      ]
     },
     "execution_count": 22,
     "metadata": {},
     "output_type": "execute_result"
    },
    {
     "data": {
      "image/png": "[encoded data removed]",
      "text/plain": [
       "<matplotlib.figure.Figure at 0x21c1750cf98>"
      ]
     },
     "metadata": {},
     "output_type": "display_data"
    }
   ],
   "source": [
    "#2015\n",
    "print(df3.describe())\n",
    "SM15B = df3\n",
    "SM15B.plot(kind='hist', title= \"Salários Mínimos - 2015\", grid=True, bins = 280, xlim=[0,10], normed=1)"
   ]
  },
  {
   "cell_type": "code",
   "execution_count": 23,
   "metadata": {
    "collapsed": false,
    "scrolled": false
   },
   "outputs": [
    {
     "name": "stdout",
     "output_type": "stream",
     "text": [
      "               SM_11\n",
      "count  106449.000000\n",
      "mean        1.652384\n",
      "std         2.832359\n",
      "min         0.000000\n",
      "25%         0.515596\n",
      "50%         1.000000\n",
      "75%         1.743119\n",
      "max       229.357798\n"
     ]
    },
    {
     "data": {
      "text/plain": [
       "<matplotlib.axes._subplots.AxesSubplot at 0x21c1750c4a8>"
      ]
     },
     "execution_count": 23,
     "metadata": {},
     "output_type": "execute_result"
    },
    {
     "data": {
      "image/png": "[encoded data removed]",
      "text/plain": [
       "<matplotlib.figure.Figure at 0x21c174ab3c8>"
      ]
     },
     "metadata": {},
     "output_type": "display_data"
    }
   ],
   "source": [
    "#2011\n",
    "print(df3a.describe())\n",
    "SM11B = df3a\n",
    "SM11B.plot(kind='hist', title= \"Salários Mínimos - 2011\", grid=True, bins = 700, xlim=[0,10], normed=1)"
   ]
  },
  {
   "cell_type": "markdown",
   "metadata": {},
   "source": [
    "Os histogramas são baseados na renda domicilar per capita dividido pelo salário minimo dos anos de 2011 e 2015 que valiam, respectivamente, 545 e 788 reais. A divisão foi feita para que fosse possível ter um parâmetro mais confiável sobre o valor do real, já que uma quantidade X de reais em 2011 valiam mais que a mesma quantidade em 2015 devido à inflação.\n",
    "\n",
    "Os histogramas apresentam perfil semelhante, com assimetria à direita. Devido ao aspecto semelhante, recorri às medidas resumo, a partir das quais consegui obter as médias. É importante observar que segundo o parâmetro estabelecido acima, em média, as pessoas recebiam mais em 2011 que em 2015, além do fato do real estar mais valorizado em 2011."
   ]
  },
  {
   "cell_type": "code",
   "execution_count": 24,
   "metadata": {
    "collapsed": false
   },
   "outputs": [
    {
     "data": {
      "text/plain": [
       "<matplotlib.text.Text at 0x21c26a47588>"
      ]
     },
     "execution_count": 24,
     "metadata": {},
     "output_type": "execute_result"
    },
    {
     "data": {
      "image/png": "[encoded data removed]",
      "text/plain": [
       "<matplotlib.figure.Figure at 0x21c26a2bcc0>"
      ]
     },
     "metadata": {},
     "output_type": "display_data"
    }
   ],
   "source": [
    "#2015 celular\n",
    "fig = plt.figure(figsize=(12,6))\n",
    "plt.subplot(121)\n",
    "cel15 = (p15.V0220.value_counts(True)*100).round(decimals=1).reindex(['Sim', 'Não'])\n",
    "plot = cel15.plot(kind='pie',title='Tem Celular - 2015',autopct='%.1f',)\n",
    "plt.ylabel('Freq.Relativa (%)')\n",
    "\n",
    "#2011 celular\n",
    "plt.subplot(122)\n",
    "cel11 = (p11.V0220.value_counts(True)*100).round(decimals=1).reindex(['Sim', 'Não'])\n",
    "plot = cel11.plot(kind='pie',title='Tem Celular - 2011',autopct='%.1f',colors=('c','r'))\n",
    "plt.ylabel('Freq.Relativa (%)')"
   ]
  },
  {
   "cell_type": "markdown",
   "metadata": {},
   "source": [
    " "
   ]
  },
  {
   "cell_type": "code",
   "execution_count": 25,
   "metadata": {
    "collapsed": false,
    "scrolled": false
   },
   "outputs": [
    {
     "data": {
      "text/plain": [
       "<matplotlib.text.Text at 0x21c261d7278>"
      ]
     },
     "execution_count": 25,
     "metadata": {},
     "output_type": "execute_result"
    },
    {
     "data": {
      "image/png": "[encoded data removed]",
      "text/plain": [
       "<matplotlib.figure.Figure at 0x21c26166358>"
      ]
     },
     "metadata": {},
     "output_type": "display_data"
    }
   ],
   "source": [
    "#2015\n",
    "fig = plt.figure(figsize=(12,6))\n",
    "plt.subplot(121)\n",
    "pc15 = (p15.V0231.value_counts(True)*100).round(decimals=1).reindex(['Sim', 'Não'])\n",
    "plot = pc15.plot(kind='pie',title='Tem Computador - 2015',autopct='%.1f',)\n",
    "plt.ylabel('Freq.Relativa (%)')\n",
    "\n",
    "#2011\n",
    "plt.subplot(122)\n",
    "pc11 = (p11.V0231.value_counts(True)*100).round(decimals=1).reindex(['Sim', 'Não'])\n",
    "plot = pc11.plot(kind='pie',title='Tem Computador - 2011',autopct='%.1f',colors=('c','r'))\n",
    "plt.ylabel('Freq.Relativa (%)')"
   ]
  },
  {
   "cell_type": "markdown",
   "metadata": {},
   "source": [
    "A época de crescimento econômico proporcionou à população maior poder aquisitivo, que passou a gastar mais com <strong>bens não duráveis</strong> (como o caso de celulares, computadores, roupas, televisões, etc) e <strong> duráveis </strong>(que serão discutidos mais adiante). Em 4 anos, o número de pessoas com celular aumentou cerca de 5%, enquanto o de computadores aumentou cerca de 3%."
   ]
  },
  {
   "cell_type": "markdown",
   "metadata": {},
   "source": [
    " "
   ]
  },
  {
   "cell_type": "markdown",
   "metadata": {},
   "source": [
    "## Análise das condições de moradia"
   ]
  },
  {
   "cell_type": "markdown",
   "metadata": {},
   "source": [
    "### Observação: As análises parciais estão dispostas a cada par tabelas e estão em negrito para faciitar o destaque."
   ]
  },
  {
   "cell_type": "code",
   "execution_count": 26,
   "metadata": {
    "collapsed": true
   },
   "outputs": [],
   "source": [
    "def percConvert(tab):\n",
    "  return (tab/float(tab[-1])*100).round(decimals=3)"
   ]
  },
  {
   "cell_type": "markdown",
   "metadata": {},
   "source": [
    "### Tipo de Domicílio por Região"
   ]
  },
  {
   "cell_type": "code",
   "execution_count": 27,
   "metadata": {
    "collapsed": false
   },
   "outputs": [
    {
     "name": "stdout",
     "output_type": "stream",
     "text": [
      "Frequencia relativa de Tipo de Domicílio por Região - 2015\n"
     ]
    },
    {
     "data": {
      "text/html": [
       "<div>\n",
       "<table border=\"1\" class=\"dataframe\">\n",
       "  <thead>\n",
       "    <tr style=\"text-align: right;\">\n",
       "      <th>Domicílio</th>\n",
       "      <th>Particular Permanente</th>\n",
       "      <th>Particular improvisado</th>\n",
       "      <th>Coletivo</th>\n",
       "      <th>All</th>\n",
       "    </tr>\n",
       "    <tr>\n",
       "      <th>Região</th>\n",
       "      <th></th>\n",
       "      <th></th>\n",
       "      <th></th>\n",
       "      <th></th>\n",
       "    </tr>\n",
       "  </thead>\n",
       "  <tbody>\n",
       "    <tr>\n",
       "      <th>Norte</th>\n",
       "      <td>99.685</td>\n",
       "      <td>0.267</td>\n",
       "      <td>0.048</td>\n",
       "      <td>100.0</td>\n",
       "    </tr>\n",
       "    <tr>\n",
       "      <th>Nordeste</th>\n",
       "      <td>99.850</td>\n",
       "      <td>0.135</td>\n",
       "      <td>0.015</td>\n",
       "      <td>100.0</td>\n",
       "    </tr>\n",
       "    <tr>\n",
       "      <th>Sudeste</th>\n",
       "      <td>99.755</td>\n",
       "      <td>0.173</td>\n",
       "      <td>0.072</td>\n",
       "      <td>100.0</td>\n",
       "    </tr>\n",
       "    <tr>\n",
       "      <th>Sul</th>\n",
       "      <td>99.662</td>\n",
       "      <td>0.194</td>\n",
       "      <td>0.143</td>\n",
       "      <td>100.0</td>\n",
       "    </tr>\n",
       "    <tr>\n",
       "      <th>Centro_Oeste</th>\n",
       "      <td>99.357</td>\n",
       "      <td>0.389</td>\n",
       "      <td>0.254</td>\n",
       "      <td>100.0</td>\n",
       "    </tr>\n",
       "    <tr>\n",
       "      <th>All</th>\n",
       "      <td>99.713</td>\n",
       "      <td>0.203</td>\n",
       "      <td>0.084</td>\n",
       "      <td>100.0</td>\n",
       "    </tr>\n",
       "  </tbody>\n",
       "</table>\n",
       "</div>"
      ],
      "text/plain": [
       "Domicílio     Particular Permanente  Particular improvisado  Coletivo    All\n",
       "Região                                                                      \n",
       "Norte                        99.685                   0.267     0.048  100.0\n",
       "Nordeste                     99.850                   0.135     0.015  100.0\n",
       "Sudeste                      99.755                   0.173     0.072  100.0\n",
       "Sul                          99.662                   0.194     0.143  100.0\n",
       "Centro_Oeste                 99.357                   0.389     0.254  100.0\n",
       "All                          99.713                   0.203     0.084  100.0"
      ]
     },
     "execution_count": 27,
     "metadata": {},
     "output_type": "execute_result"
    }
   ],
   "source": [
    "#Tipo de domicílio poe região - 2015\n",
    "print('Frequencia relativa de Tipo de Domicílio por Região - 2015')\n",
    "TDR15=pd.crosstab(df1.Regiao,p15.V0201,margins=True,rownames=['Região'], colnames=['Domicílio']).apply(percConvert, axis=1)\n",
    "TDR15"
   ]
  },
  {
   "cell_type": "code",
   "execution_count": 56,
   "metadata": {
    "collapsed": false
   },
   "outputs": [
    {
     "name": "stdout",
     "output_type": "stream",
     "text": [
      "Frequencia relativa de Tipo de Domicílio por Região - 2011\n"
     ]
    },
    {
     "data": {
      "text/html": [
       "<div>\n",
       "<table border=\"1\" class=\"dataframe\">\n",
       "  <thead>\n",
       "    <tr style=\"text-align: right;\">\n",
       "      <th>Domicílio</th>\n",
       "      <th>Particular Permanente</th>\n",
       "      <th>Particular improvisado</th>\n",
       "      <th>Coletivo</th>\n",
       "      <th>All</th>\n",
       "    </tr>\n",
       "    <tr>\n",
       "      <th>Região</th>\n",
       "      <th></th>\n",
       "      <th></th>\n",
       "      <th></th>\n",
       "      <th></th>\n",
       "    </tr>\n",
       "  </thead>\n",
       "  <tbody>\n",
       "    <tr>\n",
       "      <th>Norte</th>\n",
       "      <td>99.343</td>\n",
       "      <td>0.571</td>\n",
       "      <td>0.086</td>\n",
       "      <td>100.0</td>\n",
       "    </tr>\n",
       "    <tr>\n",
       "      <th>Nordeste</th>\n",
       "      <td>99.660</td>\n",
       "      <td>0.304</td>\n",
       "      <td>0.037</td>\n",
       "      <td>100.0</td>\n",
       "    </tr>\n",
       "    <tr>\n",
       "      <th>Sudeste</th>\n",
       "      <td>99.802</td>\n",
       "      <td>0.115</td>\n",
       "      <td>0.083</td>\n",
       "      <td>100.0</td>\n",
       "    </tr>\n",
       "    <tr>\n",
       "      <th>Sul</th>\n",
       "      <td>99.784</td>\n",
       "      <td>0.108</td>\n",
       "      <td>0.108</td>\n",
       "      <td>100.0</td>\n",
       "    </tr>\n",
       "    <tr>\n",
       "      <th>Centro_Oeste</th>\n",
       "      <td>99.459</td>\n",
       "      <td>0.472</td>\n",
       "      <td>0.069</td>\n",
       "      <td>100.0</td>\n",
       "    </tr>\n",
       "    <tr>\n",
       "      <th>All</th>\n",
       "      <td>99.664</td>\n",
       "      <td>0.263</td>\n",
       "      <td>0.073</td>\n",
       "      <td>100.0</td>\n",
       "    </tr>\n",
       "  </tbody>\n",
       "</table>\n",
       "</div>"
      ],
      "text/plain": [
       "Domicílio     Particular Permanente  Particular improvisado  Coletivo    All\n",
       "Região                                                                      \n",
       "Norte                        99.343                   0.571     0.086  100.0\n",
       "Nordeste                     99.660                   0.304     0.037  100.0\n",
       "Sudeste                      99.802                   0.115     0.083  100.0\n",
       "Sul                          99.784                   0.108     0.108  100.0\n",
       "Centro_Oeste                 99.459                   0.472     0.069  100.0\n",
       "All                          99.664                   0.263     0.073  100.0"
      ]
     },
     "execution_count": 56,
     "metadata": {},
     "output_type": "execute_result"
    }
   ],
   "source": [
    "#Tipo de domicílio x região - 2011\n",
    "print('Frequencia relativa de Tipo de Domicílio por Região - 2011')\n",
    "TDR11=pd.crosstab(df1.Regiao,p11.V0201,margins=True,rownames=['Região'], colnames=['Domicílio']).apply(percConvert, axis=1)\n",
    "TDR11"
   ]
  },
  {
   "cell_type": "markdown",
   "metadata": {},
   "source": [
    "#### No Norte e no Nordeste do país, a frequência relativa dos domicílios particulares permanentes aumentou quando comparamos 2011 com 2015. Já nas outras regiões, a frequência foi menor em 2015. Contudo, a frequência acumulada de todas as regiões foi maior em 2015. \n",
    "\n",
    "#### O fato pode ser explicado pela migração no Brasil. A maioria dos migrantes sai do nordeste e vai rumo ao sudeste e, muitas vezes, não tem condições suficientes para conseguir uma moradia própria, pessando a residir em domicílios particulares improvisados ou coletivos."
   ]
  },
  {
   "cell_type": "markdown",
   "metadata": {},
   "source": [
    "Migração - http://g1.globo.com/jornal-nacional/noticia/2013/08/maior-parte-dos-migrantes-do-brasil-sai-do-nordeste-segundo-o-ibge.html"
   ]
  },
  {
   "cell_type": "markdown",
   "metadata": {},
   "source": [
    " "
   ]
  },
  {
   "cell_type": "markdown",
   "metadata": {},
   "source": [
    " "
   ]
  },
  {
   "cell_type": "markdown",
   "metadata": {},
   "source": [
    "## Quantidade de Pessoas por tipo de Domicílio"
   ]
  },
  {
   "cell_type": "code",
   "execution_count": 29,
   "metadata": {
    "collapsed": false
   },
   "outputs": [
    {
     "name": "stdout",
     "output_type": "stream",
     "text": [
      "Frequencia relativa de Quantidade de Pessoas por Tipo de Domicílio - 2015\n"
     ]
    },
    {
     "data": {
      "text/html": [
       "<div>\n",
       "<table border=\"1\" class=\"dataframe\">\n",
       "  <thead>\n",
       "    <tr style=\"text-align: right;\">\n",
       "      <th>Pessoas por domicílio</th>\n",
       "      <th>1~5</th>\n",
       "      <th>6~10</th>\n",
       "      <th>11~15</th>\n",
       "      <th>16~20</th>\n",
       "      <th>21~30</th>\n",
       "      <th>All</th>\n",
       "    </tr>\n",
       "    <tr>\n",
       "      <th>Domicílio</th>\n",
       "      <th></th>\n",
       "      <th></th>\n",
       "      <th></th>\n",
       "      <th></th>\n",
       "      <th></th>\n",
       "      <th></th>\n",
       "    </tr>\n",
       "  </thead>\n",
       "  <tbody>\n",
       "    <tr>\n",
       "      <th>Particular Permanente</th>\n",
       "      <td>94.297</td>\n",
       "      <td>5.591</td>\n",
       "      <td>0.105</td>\n",
       "      <td>0.001</td>\n",
       "      <td>0.007</td>\n",
       "      <td>100.0</td>\n",
       "    </tr>\n",
       "    <tr>\n",
       "      <th>Particular improvisado</th>\n",
       "      <td>94.142</td>\n",
       "      <td>5.858</td>\n",
       "      <td>0.000</td>\n",
       "      <td>0.000</td>\n",
       "      <td>0.000</td>\n",
       "      <td>100.0</td>\n",
       "    </tr>\n",
       "    <tr>\n",
       "      <th>Coletivo</th>\n",
       "      <td>96.970</td>\n",
       "      <td>3.030</td>\n",
       "      <td>0.000</td>\n",
       "      <td>0.000</td>\n",
       "      <td>0.000</td>\n",
       "      <td>100.0</td>\n",
       "    </tr>\n",
       "    <tr>\n",
       "      <th>All</th>\n",
       "      <td>94.299</td>\n",
       "      <td>5.589</td>\n",
       "      <td>0.104</td>\n",
       "      <td>0.001</td>\n",
       "      <td>0.007</td>\n",
       "      <td>100.0</td>\n",
       "    </tr>\n",
       "  </tbody>\n",
       "</table>\n",
       "</div>"
      ],
      "text/plain": [
       "Pessoas por domicílio      1~5   6~10  11~15  16~20  21~30    All\n",
       "Domicílio                                                        \n",
       "Particular Permanente   94.297  5.591  0.105  0.001  0.007  100.0\n",
       "Particular improvisado  94.142  5.858  0.000  0.000  0.000  100.0\n",
       "Coletivo                96.970  3.030  0.000  0.000  0.000  100.0\n",
       "All                     94.299  5.589  0.104  0.001  0.007  100.0"
      ]
     },
     "execution_count": 29,
     "metadata": {},
     "output_type": "execute_result"
    }
   ],
   "source": [
    "#2015 - Pessoas por Domicilio\n",
    "print('Frequencia relativa de Quantidade de Pessoas por Tipo de Domicílio - 2015')\n",
    "PPD15=pd.crosstab(p15.V0201,df2.Pessoas_por_Domicilio,margins=True,rownames=['Domicílio'], colnames=['Pessoas por domicílio']).apply(percConvert, axis=1)\n",
    "PPD15"
   ]
  },
  {
   "cell_type": "code",
   "execution_count": 30,
   "metadata": {
    "collapsed": false
   },
   "outputs": [
    {
     "name": "stdout",
     "output_type": "stream",
     "text": [
      "Frequencia relativa de Tipo de Pessoas por domicílio por domicílio - 2011\n"
     ]
    },
    {
     "data": {
      "text/html": [
       "<div>\n",
       "<table border=\"1\" class=\"dataframe\">\n",
       "  <thead>\n",
       "    <tr style=\"text-align: right;\">\n",
       "      <th>Pessoas por domicílio</th>\n",
       "      <th>1~5</th>\n",
       "      <th>6~10</th>\n",
       "      <th>11~15</th>\n",
       "      <th>16~20</th>\n",
       "      <th>21~30</th>\n",
       "      <th>All</th>\n",
       "    </tr>\n",
       "    <tr>\n",
       "      <th>Domicílio</th>\n",
       "      <th></th>\n",
       "      <th></th>\n",
       "      <th></th>\n",
       "      <th></th>\n",
       "      <th></th>\n",
       "      <th></th>\n",
       "    </tr>\n",
       "  </thead>\n",
       "  <tbody>\n",
       "    <tr>\n",
       "      <th>Particular Permanente</th>\n",
       "      <td>92.681</td>\n",
       "      <td>7.156</td>\n",
       "      <td>0.156</td>\n",
       "      <td>0.006</td>\n",
       "      <td>0.001</td>\n",
       "      <td>100.0</td>\n",
       "    </tr>\n",
       "    <tr>\n",
       "      <th>Particular improvisado</th>\n",
       "      <td>93.197</td>\n",
       "      <td>6.803</td>\n",
       "      <td>0.000</td>\n",
       "      <td>0.000</td>\n",
       "      <td>0.000</td>\n",
       "      <td>100.0</td>\n",
       "    </tr>\n",
       "    <tr>\n",
       "      <th>Coletivo</th>\n",
       "      <td>96.341</td>\n",
       "      <td>3.659</td>\n",
       "      <td>0.000</td>\n",
       "      <td>0.000</td>\n",
       "      <td>0.000</td>\n",
       "      <td>100.0</td>\n",
       "    </tr>\n",
       "    <tr>\n",
       "      <th>All</th>\n",
       "      <td>92.685</td>\n",
       "      <td>7.153</td>\n",
       "      <td>0.155</td>\n",
       "      <td>0.006</td>\n",
       "      <td>0.001</td>\n",
       "      <td>100.0</td>\n",
       "    </tr>\n",
       "  </tbody>\n",
       "</table>\n",
       "</div>"
      ],
      "text/plain": [
       "Pessoas por domicílio      1~5   6~10  11~15  16~20  21~30    All\n",
       "Domicílio                                                        \n",
       "Particular Permanente   92.681  7.156  0.156  0.006  0.001  100.0\n",
       "Particular improvisado  93.197  6.803  0.000  0.000  0.000  100.0\n",
       "Coletivo                96.341  3.659  0.000  0.000  0.000  100.0\n",
       "All                     92.685  7.153  0.155  0.006  0.001  100.0"
      ]
     },
     "execution_count": 30,
     "metadata": {},
     "output_type": "execute_result"
    }
   ],
   "source": [
    "#2011 - Pessoas por Domicilio\n",
    "print('Frequencia relativa de Tipo de Pessoas por domicílio por domicílio - 2011')\n",
    "PPD11=pd.crosstab(p11.V0201,df2a.Pessoas_por_Domicilio_11,margins=True,rownames=['Domicílio'], colnames=['Pessoas por domicílio']).apply(percConvert, axis=1)\n",
    "PPD11"
   ]
  },
  {
   "cell_type": "markdown",
   "metadata": {},
   "source": [
    "#### A partir dos dois anos analisados, é possivel perceber um aumento nos domicílios particulares permantentes e particulares improvidados para grupos com até 5 pessoas em 2015. Além disso, nota-se uma redução nos mesmos tipos de domicílio para grupos com 6 a 10 integrantes. \n",
    "\n",
    "#### Com o crescimento da economia muitos migraram do nordeste para o sudeste, como foi visto na analise do par de tabelas anterior, e possivelmente muitos passaram a ter condições financeiras suficiente para passarem a morar em casas independentes dos pais."
   ]
  },
  {
   "cell_type": "markdown",
   "metadata": {},
   "source": [
    " "
   ]
  },
  {
   "cell_type": "markdown",
   "metadata": {},
   "source": [
    " "
   ]
  },
  {
   "cell_type": "markdown",
   "metadata": {},
   "source": [
    "## Quantidade de Pessoas por Domicílio por Região "
   ]
  },
  {
   "cell_type": "code",
   "execution_count": 31,
   "metadata": {
    "collapsed": false
   },
   "outputs": [
    {
     "name": "stdout",
     "output_type": "stream",
     "text": [
      "Frequencia relativa de Quantidade de Pessoas por Domicílio por Região - 2011\n"
     ]
    },
    {
     "data": {
      "text/html": [
       "<div>\n",
       "<table border=\"1\" class=\"dataframe\">\n",
       "  <thead>\n",
       "    <tr style=\"text-align: right;\">\n",
       "      <th>Pessoas por domicílio</th>\n",
       "      <th>1~5</th>\n",
       "      <th>6~10</th>\n",
       "      <th>11~15</th>\n",
       "      <th>16~20</th>\n",
       "      <th>21~30</th>\n",
       "      <th>All</th>\n",
       "    </tr>\n",
       "    <tr>\n",
       "      <th>Região</th>\n",
       "      <th></th>\n",
       "      <th></th>\n",
       "      <th></th>\n",
       "      <th></th>\n",
       "      <th></th>\n",
       "      <th></th>\n",
       "    </tr>\n",
       "  </thead>\n",
       "  <tbody>\n",
       "    <tr>\n",
       "      <th>Norte</th>\n",
       "      <td>89.321</td>\n",
       "      <td>10.334</td>\n",
       "      <td>0.309</td>\n",
       "      <td>0.000</td>\n",
       "      <td>0.036</td>\n",
       "      <td>100.0</td>\n",
       "    </tr>\n",
       "    <tr>\n",
       "      <th>Nordeste</th>\n",
       "      <td>93.115</td>\n",
       "      <td>6.750</td>\n",
       "      <td>0.129</td>\n",
       "      <td>0.003</td>\n",
       "      <td>0.003</td>\n",
       "      <td>100.0</td>\n",
       "    </tr>\n",
       "    <tr>\n",
       "      <th>Sudeste</th>\n",
       "      <td>95.907</td>\n",
       "      <td>4.038</td>\n",
       "      <td>0.052</td>\n",
       "      <td>0.000</td>\n",
       "      <td>0.003</td>\n",
       "      <td>100.0</td>\n",
       "    </tr>\n",
       "    <tr>\n",
       "      <th>Sul</th>\n",
       "      <td>96.773</td>\n",
       "      <td>3.197</td>\n",
       "      <td>0.031</td>\n",
       "      <td>0.000</td>\n",
       "      <td>0.000</td>\n",
       "      <td>100.0</td>\n",
       "    </tr>\n",
       "    <tr>\n",
       "      <th>Centro_Oeste</th>\n",
       "      <td>95.540</td>\n",
       "      <td>4.429</td>\n",
       "      <td>0.032</td>\n",
       "      <td>0.000</td>\n",
       "      <td>0.000</td>\n",
       "      <td>100.0</td>\n",
       "    </tr>\n",
       "    <tr>\n",
       "      <th>All</th>\n",
       "      <td>94.299</td>\n",
       "      <td>5.589</td>\n",
       "      <td>0.104</td>\n",
       "      <td>0.001</td>\n",
       "      <td>0.007</td>\n",
       "      <td>100.0</td>\n",
       "    </tr>\n",
       "  </tbody>\n",
       "</table>\n",
       "</div>"
      ],
      "text/plain": [
       "Pessoas por domicílio     1~5    6~10  11~15  16~20  21~30    All\n",
       "Região                                                           \n",
       "Norte                  89.321  10.334  0.309  0.000  0.036  100.0\n",
       "Nordeste               93.115   6.750  0.129  0.003  0.003  100.0\n",
       "Sudeste                95.907   4.038  0.052  0.000  0.003  100.0\n",
       "Sul                    96.773   3.197  0.031  0.000  0.000  100.0\n",
       "Centro_Oeste           95.540   4.429  0.032  0.000  0.000  100.0\n",
       "All                    94.299   5.589  0.104  0.001  0.007  100.0"
      ]
     },
     "execution_count": 31,
     "metadata": {},
     "output_type": "execute_result"
    }
   ],
   "source": [
    "#2015 - Pessoas por Domicilio por Região\n",
    "print('Frequencia relativa de Quantidade de Pessoas por Domicílio por Região - 2011')\n",
    "PPDR15=pd.crosstab(df1.Regiao, df2.Pessoas_por_Domicilio,margins=True,rownames=['Região'], colnames=['Pessoas por domicílio']).apply(percConvert, axis=1)\n",
    "PPDR15"
   ]
  },
  {
   "cell_type": "code",
   "execution_count": 32,
   "metadata": {
    "collapsed": false
   },
   "outputs": [
    {
     "name": "stdout",
     "output_type": "stream",
     "text": [
      "Frequencia relativa de Quantidade de Pessoas por Domicílio por Região - 2011\n"
     ]
    },
    {
     "data": {
      "text/html": [
       "<div>\n",
       "<table border=\"1\" class=\"dataframe\">\n",
       "  <thead>\n",
       "    <tr style=\"text-align: right;\">\n",
       "      <th>Pessoas por domicílio</th>\n",
       "      <th>1~5</th>\n",
       "      <th>6~10</th>\n",
       "      <th>11~15</th>\n",
       "      <th>16~20</th>\n",
       "      <th>21~30</th>\n",
       "      <th>All</th>\n",
       "    </tr>\n",
       "    <tr>\n",
       "      <th>Região</th>\n",
       "      <th></th>\n",
       "      <th></th>\n",
       "      <th></th>\n",
       "      <th></th>\n",
       "      <th></th>\n",
       "      <th></th>\n",
       "    </tr>\n",
       "  </thead>\n",
       "  <tbody>\n",
       "    <tr>\n",
       "      <th>Norte</th>\n",
       "      <td>86.289</td>\n",
       "      <td>13.226</td>\n",
       "      <td>0.454</td>\n",
       "      <td>0.031</td>\n",
       "      <td>0.000</td>\n",
       "      <td>100.0</td>\n",
       "    </tr>\n",
       "    <tr>\n",
       "      <th>Nordeste</th>\n",
       "      <td>91.401</td>\n",
       "      <td>8.400</td>\n",
       "      <td>0.193</td>\n",
       "      <td>0.003</td>\n",
       "      <td>0.003</td>\n",
       "      <td>100.0</td>\n",
       "    </tr>\n",
       "    <tr>\n",
       "      <th>Sudeste</th>\n",
       "      <td>94.781</td>\n",
       "      <td>5.153</td>\n",
       "      <td>0.063</td>\n",
       "      <td>0.003</td>\n",
       "      <td>0.000</td>\n",
       "      <td>100.0</td>\n",
       "    </tr>\n",
       "    <tr>\n",
       "      <th>Sul</th>\n",
       "      <td>95.525</td>\n",
       "      <td>4.419</td>\n",
       "      <td>0.057</td>\n",
       "      <td>0.000</td>\n",
       "      <td>0.000</td>\n",
       "      <td>100.0</td>\n",
       "    </tr>\n",
       "    <tr>\n",
       "      <th>Centro_Oeste</th>\n",
       "      <td>94.708</td>\n",
       "      <td>5.246</td>\n",
       "      <td>0.046</td>\n",
       "      <td>0.000</td>\n",
       "      <td>0.000</td>\n",
       "      <td>100.0</td>\n",
       "    </tr>\n",
       "    <tr>\n",
       "      <th>All</th>\n",
       "      <td>92.685</td>\n",
       "      <td>7.153</td>\n",
       "      <td>0.155</td>\n",
       "      <td>0.006</td>\n",
       "      <td>0.001</td>\n",
       "      <td>100.0</td>\n",
       "    </tr>\n",
       "  </tbody>\n",
       "</table>\n",
       "</div>"
      ],
      "text/plain": [
       "Pessoas por domicílio     1~5    6~10  11~15  16~20  21~30    All\n",
       "Região                                                           \n",
       "Norte                  86.289  13.226  0.454  0.031  0.000  100.0\n",
       "Nordeste               91.401   8.400  0.193  0.003  0.003  100.0\n",
       "Sudeste                94.781   5.153  0.063  0.003  0.000  100.0\n",
       "Sul                    95.525   4.419  0.057  0.000  0.000  100.0\n",
       "Centro_Oeste           94.708   5.246  0.046  0.000  0.000  100.0\n",
       "All                    92.685   7.153  0.155  0.006  0.001  100.0"
      ]
     },
     "execution_count": 32,
     "metadata": {},
     "output_type": "execute_result"
    }
   ],
   "source": [
    "#2011 - Pessoas por Domicilio\n",
    "print('Frequencia relativa de Quantidade de Pessoas por Domicílio por Região - 2011')\n",
    "PPDR11=pd.crosstab(df1.Regiao, df2a.Pessoas_por_Domicilio_11,margins=True,rownames=['Região'], colnames=['Pessoas por domicílio']).apply(percConvert, axis=1)\n",
    "PPDR11"
   ]
  },
  {
   "cell_type": "markdown",
   "metadata": {},
   "source": [
    "#### Em todas as regiões, houve aumento na frequencia de grupos de 1 a 5 pessoas por domicílio, enquanto houve diminuição nos grupos de 6 a 10."
   ]
  },
  {
   "cell_type": "markdown",
   "metadata": {},
   "source": [
    " "
   ]
  },
  {
   "cell_type": "markdown",
   "metadata": {},
   "source": [
    " "
   ]
  },
  {
   "cell_type": "markdown",
   "metadata": {},
   "source": [
    "## Condições da Casa"
   ]
  },
  {
   "cell_type": "markdown",
   "metadata": {},
   "source": [
    "  "
   ]
  },
  {
   "cell_type": "code",
   "execution_count": 40,
   "metadata": {
    "collapsed": false
   },
   "outputs": [
    {
     "name": "stdout",
     "output_type": "stream",
     "text": [
      "       Comodos_por_domicílio\n",
      "count          117601.000000\n",
      "mean                5.773692\n",
      "std                 1.999496\n",
      "min                 1.000000\n",
      "25%                 5.000000\n",
      "50%                 5.000000\n",
      "75%                 7.000000\n",
      "max                28.000000 \n",
      "\n",
      "\n",
      "        Comodos_por_domicílio_11\n",
      "count             111610.000000\n",
      "mean                   5.712678\n",
      "std                    2.067074\n",
      "min                    1.000000\n",
      "25%                    5.000000\n",
      "50%                    5.000000\n",
      "75%                    7.000000\n",
      "max                   28.000000\n"
     ]
    },
    {
     "data": {
      "image/png": "[encoded data removed]",
      "text/plain": [
       "<matplotlib.figure.Figure at 0x21c2627f0b8>"
      ]
     },
     "metadata": {},
     "output_type": "display_data"
    }
   ],
   "source": [
    "from pylab import *\n",
    "\n",
    "fig, ax1 = plt.subplots(figsize=(10, 6))\n",
    "ax1.yaxis.grid(True, linestyle='-', which='major', color='lightgrey', alpha=0.8)\n",
    "ax1.set_ylim(0, 15)\n",
    "df5 = df5.dropna()\n",
    "df5a = df5a.dropna()\n",
    "A= [df5, df5a]\n",
    "bp = boxplot(A, positions = [1, 2], widths = 0.6)\n",
    "print(df5.describe(),\"\"\"\n",
    "\n",
    "\n",
    "\"\"\"\n",
    "      ,df5a.describe())"
   ]
  },
  {
   "cell_type": "markdown",
   "metadata": {},
   "source": [
    "Mesmo após uma época de crescimento econômico, o tamanho das casas permaneceu o mesmo, com média de aproximadamente 6 cômodos por domicílio. Logo, aqueles que conseguiram financiar suas próprias casas não optaram por casas extremamente maiores.\n",
    "\n",
    "Devido ao caráter quase idêntico dos boxplots, recorri às medidas resumo para conseguir observar com mais cautela seus valores significativos."
   ]
  },
  {
   "cell_type": "markdown",
   "metadata": {},
   "source": [
    " "
   ]
  },
  {
   "cell_type": "markdown",
   "metadata": {},
   "source": [
    " "
   ]
  },
  {
   "cell_type": "code",
   "execution_count": 53,
   "metadata": {
    "collapsed": false
   },
   "outputs": [
    {
     "data": {
      "text/plain": [
       "(0, 100)"
      ]
     },
     "execution_count": 53,
     "metadata": {},
     "output_type": "execute_result"
    },
    {
     "data": {
      "image/png": "[encoded data removed]",
      "text/plain": [
       "<matplotlib.figure.Figure at 0x21c26ae3320>"
      ]
     },
     "metadata": {},
     "output_type": "display_data"
    }
   ],
   "source": [
    "#Carros ou motos 2015\n",
    "crosstrab=pd.crosstab(df6.CEOM, df4.Situação_Sensitária,margins=True,rownames=['Situação Sensitária'], colnames=['Carro/Motorcicleta']).apply(percConvert, axis=0)\n",
    "plot = crosstrab.T.plot(kind='bar', stacked=True,title='Carros ou Motorcicletas por área de moradia - 2015', legend=True, grid=True)\n",
    "\n",
    "plot.set_ylim([0, 100])"
   ]
  },
  {
   "cell_type": "code",
   "execution_count": 55,
   "metadata": {
    "collapsed": false
   },
   "outputs": [
    {
     "data": {
      "text/plain": [
       "(0, 100)"
      ]
     },
     "execution_count": 55,
     "metadata": {},
     "output_type": "execute_result"
    },
    {
     "data": {
      "image/png": "[encoded data removed]",
      "text/plain": [
       "<matplotlib.figure.Figure at 0x21c26b7cb38>"
      ]
     },
     "metadata": {},
     "output_type": "display_data"
    }
   ],
   "source": [
    "#Carros ou motos 2011\n",
    "crosstrab1=pd.crosstab( df6a.CEOM_11,df4a.Situação_Sensitária_11,margins=True,rownames=['Situação Sensitária'], colnames=['Carro/Motorcicleta']).apply(percConvert, axis=0)\n",
    "plot = crosstrab1.T.plot(kind='bar', stacked=True,title='Carros ou Motorcicletas por área de moradia - 2011', legend=True, grid=True)\n",
    "plot.set_ylim([0, 100])"
   ]
  },
  {
   "cell_type": "markdown",
   "metadata": {},
   "source": [
    "Em 2015, é possivel observar que, tanto nas áreas rurais como urbanas, mais pessoas possuiam carros e/ou motos em relação ao ano de 2011. O crescimento da economia neste período foi essencial para a conquista de <strong>bens de consumo duráveis</strong> para uma parcela significativa da população."
   ]
  },
  {
   "cell_type": "markdown",
   "metadata": {},
   "source": [
    " "
   ]
  },
  {
   "cell_type": "markdown",
   "metadata": {},
   "source": [
    " "
   ]
  },
  {
   "cell_type": "markdown",
   "metadata": {},
   "source": [
    " "
   ]
  },
  {
   "cell_type": "markdown",
   "metadata": {},
   "source": [
    "# Conclusão"
   ]
  },
  {
   "cell_type": "markdown",
   "metadata": {
    "collapsed": true
   },
   "source": [
    "2011 foi marcado pelo início de uma época de prosperidade econômica, enquanto 2015 foi antecedente de uma época de crise. Com base nestas informações e pela análise dos gráficos é possivel perceber que o poder aquisitivo e a qualidade de vida das pessoas  mudou bastante nestes 4 anos.\n",
    "\n",
    "Além da independência financeira de muitos filhos dos pais neste período, as migrações do Norte e Nordeste rumo ao Sudeste foram mais intensas, o que afetou as frequencias dos tipos de domícílio em relação ao total da população em cada região. Mais pessoas passaram a ter computadores, carros e celulares devido às maiores rendas relativas aos salários mínimos do ano de 2011 até 2015 quando a economia passou a entrar em recesso. Contudo, mesmo no início de um período de recessão, a população conseguiu manter seus bens até meados de 2016, quando o país entrou em profunda crise econõmica e política. "
   ]
  },
  {
   "cell_type": "code",
   "execution_count": null,
   "metadata": {
    "collapsed": true
   },
   "outputs": [],
   "source": []
  }
 ],
 "metadata": {
  "anaconda-cloud": {},
  "kernelspec": {
   "display_name": "Python 3",
   "language": "python",
   "name": "python3"
  },
  "language_info": {
   "codemirror_mode": {
    "name": "ipython",
    "version": 3
   },
   "file_extension": ".py",
   "mimetype": "text/x-python",
   "name": "python",
   "nbconvert_exporter": "python",
   "pygments_lexer": "ipython3",
   "version": "3.5.2"
  }
 },
 "nbformat": 4,
 "nbformat_minor": 0
}
